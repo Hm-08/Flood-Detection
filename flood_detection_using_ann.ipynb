{
  "metadata": {
    "kernelspec": {
      "display_name": "Python 3",
      "name": "python3"
    },
    "language_info": {
      "name": "python",
      "version": "3.10.13",
      "mimetype": "text/x-python",
      "codemirror_mode": {
        "name": "ipython",
        "version": 3
      },
      "pygments_lexer": "ipython3",
      "nbconvert_exporter": "python",
      "file_extension": ".py"
    },
    "kaggle": {
      "accelerator": "gpu",
      "dataSources": [
        {
          "sourceId": 7421815,
          "sourceType": "datasetVersion",
          "datasetId": 4318146
        }
      ],
      "dockerImageVersionId": 30673,
      "isInternetEnabled": true,
      "language": "python",
      "sourceType": "notebook",
      "isGpuEnabled": true
    },
    "colab": {
      "provenance": [],
      "gpuType": "T4"
    },
    "accelerator": "GPU"
  },
  "nbformat_minor": 0,
  "nbformat": 4,
  "cells": [
    {
      "cell_type": "markdown",
      "source": [
        "# Import the Libraries"
      ],
      "metadata": {
        "id": "dVuhsPnF9qin"
      }
    },
    {
      "cell_type": "code",
      "source": [
        "import numpy as np\n",
        "import pandas as pd\n",
        "import matplotlib.pyplot as plt\n",
        "from sklearn.model_selection import train_test_split\n",
        "from sklearn.preprocessing import StandardScaler\n",
        "\n",
        "import tensorflow\n",
        "from tensorflow import keras\n",
        "from tensorflow.keras import Sequential # used for init the ANN model\n",
        "from tensorflow.keras.layers import Dense, Dropout # used for different layer structure"
      ],
      "metadata": {
        "_uuid": "8f2839f25d086af736a60e9eeb907d3b93b6e0e5",
        "_cell_guid": "b1076dfc-b9ad-4769-8c92-a6c4dae69d19",
        "execution": {
          "iopub.status.busy": "2024-04-04T07:06:16.426686Z",
          "iopub.execute_input": "2024-04-04T07:06:16.427031Z",
          "iopub.status.idle": "2024-04-04T07:06:30.336800Z",
          "shell.execute_reply.started": "2024-04-04T07:06:16.427004Z",
          "shell.execute_reply": "2024-04-04T07:06:30.335626Z"
        },
        "trusted": true,
        "id": "8kUpJj_g9qip"
      },
      "execution_count": null,
      "outputs": []
    },
    {
      "cell_type": "markdown",
      "source": [
        "___\n",
        "# Data Collection and Exploration\n",
        "## Load the dataset"
      ],
      "metadata": {
        "id": "N-NKAg439qir"
      }
    },
    {
      "cell_type": "code",
      "source": [
        "# Load the dataset\n",
        "flood_df = pd.read_csv('/content/_Malaysia+Flood+Dataset_Malaysia+Flood+Dataset.csv')\n",
        "flood_df.rename(columns={'0V': 'NOV'}, inplace=True)\n",
        "flood_df.rename(columns={'FLOOD ': 'FLOOD'}, inplace=True)\n",
        "flood_df.drop(columns = ['STATE','DISTRICT','YEAR'], inplace= True )"
      ],
      "metadata": {
        "execution": {
          "iopub.status.busy": "2024-04-04T07:06:30.338489Z",
          "iopub.execute_input": "2024-04-04T07:06:30.339136Z",
          "iopub.status.idle": "2024-04-04T07:06:30.367038Z",
          "shell.execute_reply.started": "2024-04-04T07:06:30.339106Z",
          "shell.execute_reply": "2024-04-04T07:06:30.366144Z"
        },
        "trusted": true,
        "id": "tM2izi699qir"
      },
      "execution_count": null,
      "outputs": []
    },
    {
      "cell_type": "code",
      "source": [
        "flood_df.head()"
      ],
      "metadata": {
        "execution": {
          "iopub.status.busy": "2024-04-04T07:06:30.368268Z",
          "iopub.execute_input": "2024-04-04T07:06:30.368592Z",
          "iopub.status.idle": "2024-04-04T07:06:30.401491Z",
          "shell.execute_reply.started": "2024-04-04T07:06:30.368540Z",
          "shell.execute_reply": "2024-04-04T07:06:30.400560Z"
        },
        "trusted": true,
        "colab": {
          "base_uri": "https://localhost:8080/",
          "height": 206
        },
        "id": "Y-QT4Xbg9qis",
        "outputId": "0ae3128c-757f-4045-82d3-b8e48d2b6ab2"
      },
      "execution_count": null,
      "outputs": [
        {
          "output_type": "execute_result",
          "data": {
            "text/plain": [
              "      JAN     FEB     MAR     APR     MAY     JUN     JUL     AUG     SEP  \\\n",
              "0  158.83  162.37  210.68  192.51  214.73  157.55   98.80  165.63  289.14   \n",
              "1  159.10   41.71  174.50  220.56  177.65  105.61  166.59  193.88  206.40   \n",
              "2   61.25   50.34   88.15  207.13  115.01   96.08  115.78  111.12  285.96   \n",
              "3   82.88  118.04  193.40  100.36  101.07  166.81  167.61  270.87  238.84   \n",
              "4  119.30   71.16  120.80  138.74  120.27  146.03  145.35  172.92  222.61   \n",
              "\n",
              "      OCT     NOV     DEC  ANNUAL RAINFALL  FLOOD  \n",
              "0  388.77  313.59  213.60          2566.19      0  \n",
              "1  298.14  232.54  150.82          2127.50      1  \n",
              "2  206.94  261.33  264.61          1863.70      1  \n",
              "3  682.07  251.46  182.35          2555.77      1  \n",
              "4  360.21  187.22  168.79          1973.39      1  "
            ],
            "text/html": [
              "\n",
              "  <div id=\"df-246d13c0-96a2-42b4-91ca-f41dd39b35eb\" class=\"colab-df-container\">\n",
              "    <div>\n",
              "<style scoped>\n",
              "    .dataframe tbody tr th:only-of-type {\n",
              "        vertical-align: middle;\n",
              "    }\n",
              "\n",
              "    .dataframe tbody tr th {\n",
              "        vertical-align: top;\n",
              "    }\n",
              "\n",
              "    .dataframe thead th {\n",
              "        text-align: right;\n",
              "    }\n",
              "</style>\n",
              "<table border=\"1\" class=\"dataframe\">\n",
              "  <thead>\n",
              "    <tr style=\"text-align: right;\">\n",
              "      <th></th>\n",
              "      <th>JAN</th>\n",
              "      <th>FEB</th>\n",
              "      <th>MAR</th>\n",
              "      <th>APR</th>\n",
              "      <th>MAY</th>\n",
              "      <th>JUN</th>\n",
              "      <th>JUL</th>\n",
              "      <th>AUG</th>\n",
              "      <th>SEP</th>\n",
              "      <th>OCT</th>\n",
              "      <th>NOV</th>\n",
              "      <th>DEC</th>\n",
              "      <th>ANNUAL RAINFALL</th>\n",
              "      <th>FLOOD</th>\n",
              "    </tr>\n",
              "  </thead>\n",
              "  <tbody>\n",
              "    <tr>\n",
              "      <th>0</th>\n",
              "      <td>158.83</td>\n",
              "      <td>162.37</td>\n",
              "      <td>210.68</td>\n",
              "      <td>192.51</td>\n",
              "      <td>214.73</td>\n",
              "      <td>157.55</td>\n",
              "      <td>98.80</td>\n",
              "      <td>165.63</td>\n",
              "      <td>289.14</td>\n",
              "      <td>388.77</td>\n",
              "      <td>313.59</td>\n",
              "      <td>213.60</td>\n",
              "      <td>2566.19</td>\n",
              "      <td>0</td>\n",
              "    </tr>\n",
              "    <tr>\n",
              "      <th>1</th>\n",
              "      <td>159.10</td>\n",
              "      <td>41.71</td>\n",
              "      <td>174.50</td>\n",
              "      <td>220.56</td>\n",
              "      <td>177.65</td>\n",
              "      <td>105.61</td>\n",
              "      <td>166.59</td>\n",
              "      <td>193.88</td>\n",
              "      <td>206.40</td>\n",
              "      <td>298.14</td>\n",
              "      <td>232.54</td>\n",
              "      <td>150.82</td>\n",
              "      <td>2127.50</td>\n",
              "      <td>1</td>\n",
              "    </tr>\n",
              "    <tr>\n",
              "      <th>2</th>\n",
              "      <td>61.25</td>\n",
              "      <td>50.34</td>\n",
              "      <td>88.15</td>\n",
              "      <td>207.13</td>\n",
              "      <td>115.01</td>\n",
              "      <td>96.08</td>\n",
              "      <td>115.78</td>\n",
              "      <td>111.12</td>\n",
              "      <td>285.96</td>\n",
              "      <td>206.94</td>\n",
              "      <td>261.33</td>\n",
              "      <td>264.61</td>\n",
              "      <td>1863.70</td>\n",
              "      <td>1</td>\n",
              "    </tr>\n",
              "    <tr>\n",
              "      <th>3</th>\n",
              "      <td>82.88</td>\n",
              "      <td>118.04</td>\n",
              "      <td>193.40</td>\n",
              "      <td>100.36</td>\n",
              "      <td>101.07</td>\n",
              "      <td>166.81</td>\n",
              "      <td>167.61</td>\n",
              "      <td>270.87</td>\n",
              "      <td>238.84</td>\n",
              "      <td>682.07</td>\n",
              "      <td>251.46</td>\n",
              "      <td>182.35</td>\n",
              "      <td>2555.77</td>\n",
              "      <td>1</td>\n",
              "    </tr>\n",
              "    <tr>\n",
              "      <th>4</th>\n",
              "      <td>119.30</td>\n",
              "      <td>71.16</td>\n",
              "      <td>120.80</td>\n",
              "      <td>138.74</td>\n",
              "      <td>120.27</td>\n",
              "      <td>146.03</td>\n",
              "      <td>145.35</td>\n",
              "      <td>172.92</td>\n",
              "      <td>222.61</td>\n",
              "      <td>360.21</td>\n",
              "      <td>187.22</td>\n",
              "      <td>168.79</td>\n",
              "      <td>1973.39</td>\n",
              "      <td>1</td>\n",
              "    </tr>\n",
              "  </tbody>\n",
              "</table>\n",
              "</div>\n",
              "    <div class=\"colab-df-buttons\">\n",
              "\n",
              "  <div class=\"colab-df-container\">\n",
              "    <button class=\"colab-df-convert\" onclick=\"convertToInteractive('df-246d13c0-96a2-42b4-91ca-f41dd39b35eb')\"\n",
              "            title=\"Convert this dataframe to an interactive table.\"\n",
              "            style=\"display:none;\">\n",
              "\n",
              "  <svg xmlns=\"http://www.w3.org/2000/svg\" height=\"24px\" viewBox=\"0 -960 960 960\">\n",
              "    <path d=\"M120-120v-720h720v720H120Zm60-500h600v-160H180v160Zm220 220h160v-160H400v160Zm0 220h160v-160H400v160ZM180-400h160v-160H180v160Zm440 0h160v-160H620v160ZM180-180h160v-160H180v160Zm440 0h160v-160H620v160Z\"/>\n",
              "  </svg>\n",
              "    </button>\n",
              "\n",
              "  <style>\n",
              "    .colab-df-container {\n",
              "      display:flex;\n",
              "      gap: 12px;\n",
              "    }\n",
              "\n",
              "    .colab-df-convert {\n",
              "      background-color: #E8F0FE;\n",
              "      border: none;\n",
              "      border-radius: 50%;\n",
              "      cursor: pointer;\n",
              "      display: none;\n",
              "      fill: #1967D2;\n",
              "      height: 32px;\n",
              "      padding: 0 0 0 0;\n",
              "      width: 32px;\n",
              "    }\n",
              "\n",
              "    .colab-df-convert:hover {\n",
              "      background-color: #E2EBFA;\n",
              "      box-shadow: 0px 1px 2px rgba(60, 64, 67, 0.3), 0px 1px 3px 1px rgba(60, 64, 67, 0.15);\n",
              "      fill: #174EA6;\n",
              "    }\n",
              "\n",
              "    .colab-df-buttons div {\n",
              "      margin-bottom: 4px;\n",
              "    }\n",
              "\n",
              "    [theme=dark] .colab-df-convert {\n",
              "      background-color: #3B4455;\n",
              "      fill: #D2E3FC;\n",
              "    }\n",
              "\n",
              "    [theme=dark] .colab-df-convert:hover {\n",
              "      background-color: #434B5C;\n",
              "      box-shadow: 0px 1px 3px 1px rgba(0, 0, 0, 0.15);\n",
              "      filter: drop-shadow(0px 1px 2px rgba(0, 0, 0, 0.3));\n",
              "      fill: #FFFFFF;\n",
              "    }\n",
              "  </style>\n",
              "\n",
              "    <script>\n",
              "      const buttonEl =\n",
              "        document.querySelector('#df-246d13c0-96a2-42b4-91ca-f41dd39b35eb button.colab-df-convert');\n",
              "      buttonEl.style.display =\n",
              "        google.colab.kernel.accessAllowed ? 'block' : 'none';\n",
              "\n",
              "      async function convertToInteractive(key) {\n",
              "        const element = document.querySelector('#df-246d13c0-96a2-42b4-91ca-f41dd39b35eb');\n",
              "        const dataTable =\n",
              "          await google.colab.kernel.invokeFunction('convertToInteractive',\n",
              "                                                    [key], {});\n",
              "        if (!dataTable) return;\n",
              "\n",
              "        const docLinkHtml = 'Like what you see? Visit the ' +\n",
              "          '<a target=\"_blank\" href=https://colab.research.google.com/notebooks/data_table.ipynb>data table notebook</a>'\n",
              "          + ' to learn more about interactive tables.';\n",
              "        element.innerHTML = '';\n",
              "        dataTable['output_type'] = 'display_data';\n",
              "        await google.colab.output.renderOutput(dataTable, element);\n",
              "        const docLink = document.createElement('div');\n",
              "        docLink.innerHTML = docLinkHtml;\n",
              "        element.appendChild(docLink);\n",
              "      }\n",
              "    </script>\n",
              "  </div>\n",
              "\n",
              "\n",
              "<div id=\"df-ad628df9-5398-43cc-9211-fca722fd8553\">\n",
              "  <button class=\"colab-df-quickchart\" onclick=\"quickchart('df-ad628df9-5398-43cc-9211-fca722fd8553')\"\n",
              "            title=\"Suggest charts\"\n",
              "            style=\"display:none;\">\n",
              "\n",
              "<svg xmlns=\"http://www.w3.org/2000/svg\" height=\"24px\"viewBox=\"0 0 24 24\"\n",
              "     width=\"24px\">\n",
              "    <g>\n",
              "        <path d=\"M19 3H5c-1.1 0-2 .9-2 2v14c0 1.1.9 2 2 2h14c1.1 0 2-.9 2-2V5c0-1.1-.9-2-2-2zM9 17H7v-7h2v7zm4 0h-2V7h2v10zm4 0h-2v-4h2v4z\"/>\n",
              "    </g>\n",
              "</svg>\n",
              "  </button>\n",
              "\n",
              "<style>\n",
              "  .colab-df-quickchart {\n",
              "      --bg-color: #E8F0FE;\n",
              "      --fill-color: #1967D2;\n",
              "      --hover-bg-color: #E2EBFA;\n",
              "      --hover-fill-color: #174EA6;\n",
              "      --disabled-fill-color: #AAA;\n",
              "      --disabled-bg-color: #DDD;\n",
              "  }\n",
              "\n",
              "  [theme=dark] .colab-df-quickchart {\n",
              "      --bg-color: #3B4455;\n",
              "      --fill-color: #D2E3FC;\n",
              "      --hover-bg-color: #434B5C;\n",
              "      --hover-fill-color: #FFFFFF;\n",
              "      --disabled-bg-color: #3B4455;\n",
              "      --disabled-fill-color: #666;\n",
              "  }\n",
              "\n",
              "  .colab-df-quickchart {\n",
              "    background-color: var(--bg-color);\n",
              "    border: none;\n",
              "    border-radius: 50%;\n",
              "    cursor: pointer;\n",
              "    display: none;\n",
              "    fill: var(--fill-color);\n",
              "    height: 32px;\n",
              "    padding: 0;\n",
              "    width: 32px;\n",
              "  }\n",
              "\n",
              "  .colab-df-quickchart:hover {\n",
              "    background-color: var(--hover-bg-color);\n",
              "    box-shadow: 0 1px 2px rgba(60, 64, 67, 0.3), 0 1px 3px 1px rgba(60, 64, 67, 0.15);\n",
              "    fill: var(--button-hover-fill-color);\n",
              "  }\n",
              "\n",
              "  .colab-df-quickchart-complete:disabled,\n",
              "  .colab-df-quickchart-complete:disabled:hover {\n",
              "    background-color: var(--disabled-bg-color);\n",
              "    fill: var(--disabled-fill-color);\n",
              "    box-shadow: none;\n",
              "  }\n",
              "\n",
              "  .colab-df-spinner {\n",
              "    border: 2px solid var(--fill-color);\n",
              "    border-color: transparent;\n",
              "    border-bottom-color: var(--fill-color);\n",
              "    animation:\n",
              "      spin 1s steps(1) infinite;\n",
              "  }\n",
              "\n",
              "  @keyframes spin {\n",
              "    0% {\n",
              "      border-color: transparent;\n",
              "      border-bottom-color: var(--fill-color);\n",
              "      border-left-color: var(--fill-color);\n",
              "    }\n",
              "    20% {\n",
              "      border-color: transparent;\n",
              "      border-left-color: var(--fill-color);\n",
              "      border-top-color: var(--fill-color);\n",
              "    }\n",
              "    30% {\n",
              "      border-color: transparent;\n",
              "      border-left-color: var(--fill-color);\n",
              "      border-top-color: var(--fill-color);\n",
              "      border-right-color: var(--fill-color);\n",
              "    }\n",
              "    40% {\n",
              "      border-color: transparent;\n",
              "      border-right-color: var(--fill-color);\n",
              "      border-top-color: var(--fill-color);\n",
              "    }\n",
              "    60% {\n",
              "      border-color: transparent;\n",
              "      border-right-color: var(--fill-color);\n",
              "    }\n",
              "    80% {\n",
              "      border-color: transparent;\n",
              "      border-right-color: var(--fill-color);\n",
              "      border-bottom-color: var(--fill-color);\n",
              "    }\n",
              "    90% {\n",
              "      border-color: transparent;\n",
              "      border-bottom-color: var(--fill-color);\n",
              "    }\n",
              "  }\n",
              "</style>\n",
              "\n",
              "  <script>\n",
              "    async function quickchart(key) {\n",
              "      const quickchartButtonEl =\n",
              "        document.querySelector('#' + key + ' button');\n",
              "      quickchartButtonEl.disabled = true;  // To prevent multiple clicks.\n",
              "      quickchartButtonEl.classList.add('colab-df-spinner');\n",
              "      try {\n",
              "        const charts = await google.colab.kernel.invokeFunction(\n",
              "            'suggestCharts', [key], {});\n",
              "      } catch (error) {\n",
              "        console.error('Error during call to suggestCharts:', error);\n",
              "      }\n",
              "      quickchartButtonEl.classList.remove('colab-df-spinner');\n",
              "      quickchartButtonEl.classList.add('colab-df-quickchart-complete');\n",
              "    }\n",
              "    (() => {\n",
              "      let quickchartButtonEl =\n",
              "        document.querySelector('#df-ad628df9-5398-43cc-9211-fca722fd8553 button');\n",
              "      quickchartButtonEl.style.display =\n",
              "        google.colab.kernel.accessAllowed ? 'block' : 'none';\n",
              "    })();\n",
              "  </script>\n",
              "</div>\n",
              "\n",
              "    </div>\n",
              "  </div>\n"
            ],
            "application/vnd.google.colaboratory.intrinsic+json": {
              "type": "dataframe",
              "variable_name": "flood_df",
              "summary": "{\n  \"name\": \"flood_df\",\n  \"rows\": 825,\n  \"fields\": [\n    {\n      \"column\": \"JAN\",\n      \"properties\": {\n        \"dtype\": \"number\",\n        \"std\": 174.99651752067422,\n        \"min\": 3.65,\n        \"max\": 1103.88,\n        \"num_unique_values\": 513,\n        \"samples\": [\n          111.88,\n          559.46,\n          604.12\n        ],\n        \"semantic_type\": \"\",\n        \"description\": \"\"\n      }\n    },\n    {\n      \"column\": \"FEB\",\n      \"properties\": {\n        \"dtype\": \"number\",\n        \"std\": 120.12585935896901,\n        \"min\": 3.01,\n        \"max\": 614.67,\n        \"num_unique_values\": 509,\n        \"samples\": [\n          4.66,\n          83.98,\n          289.31\n        ],\n        \"semantic_type\": \"\",\n        \"description\": \"\"\n      }\n    },\n    {\n      \"column\": \"MAR\",\n      \"properties\": {\n        \"dtype\": \"number\",\n        \"std\": 84.46919841872835,\n        \"min\": 22.58,\n        \"max\": 476.17,\n        \"num_unique_values\": 509,\n        \"samples\": [\n          43.39,\n          70.67,\n          392.61\n        ],\n        \"semantic_type\": \"\",\n        \"description\": \"\"\n      }\n    },\n    {\n      \"column\": \"APR\",\n      \"properties\": {\n        \"dtype\": \"number\",\n        \"std\": 82.44237233355791,\n        \"min\": 29.54,\n        \"max\": 431.92,\n        \"num_unique_values\": 515,\n        \"samples\": [\n          88.94,\n          275.12,\n          241.09\n        ],\n        \"semantic_type\": \"\",\n        \"description\": \"\"\n      }\n    },\n    {\n      \"column\": \"MAY\",\n      \"properties\": {\n        \"dtype\": \"number\",\n        \"std\": 73.098666451834,\n        \"min\": 67.61,\n        \"max\": 411.29,\n        \"num_unique_values\": 514,\n        \"samples\": [\n          163.63,\n          291.92,\n          175.68\n        ],\n        \"semantic_type\": \"\",\n        \"description\": \"\"\n      }\n    },\n    {\n      \"column\": \"JUN\",\n      \"properties\": {\n        \"dtype\": \"number\",\n        \"std\": 82.35656995273551,\n        \"min\": 54.51,\n        \"max\": 460.61,\n        \"num_unique_values\": 511,\n        \"samples\": [\n          57.1,\n          244.77,\n          126.48\n        ],\n        \"semantic_type\": \"\",\n        \"description\": \"\"\n      }\n    },\n    {\n      \"column\": \"JUL\",\n      \"properties\": {\n        \"dtype\": \"number\",\n        \"std\": 73.64205939675608,\n        \"min\": 73.03,\n        \"max\": 576.85,\n        \"num_unique_values\": 511,\n        \"samples\": [\n          182.16,\n          255.88,\n          274.18\n        ],\n        \"semantic_type\": \"\",\n        \"description\": \"\"\n      }\n    },\n    {\n      \"column\": \"AUG\",\n      \"properties\": {\n        \"dtype\": \"number\",\n        \"std\": 64.37818719878013,\n        \"min\": 83.25,\n        \"max\": 475.36,\n        \"num_unique_values\": 505,\n        \"samples\": [\n          207.97,\n          107.41,\n          172.33\n        ],\n        \"semantic_type\": \"\",\n        \"description\": \"\"\n      }\n    },\n    {\n      \"column\": \"SEP\",\n      \"properties\": {\n        \"dtype\": \"number\",\n        \"std\": 77.33485927380792,\n        \"min\": 81.35,\n        \"max\": 746.54,\n        \"num_unique_values\": 512,\n        \"samples\": [\n          149.05,\n          212.56,\n          229.75\n        ],\n        \"semantic_type\": \"\",\n        \"description\": \"\"\n      }\n    },\n    {\n      \"column\": \"OCT\",\n      \"properties\": {\n        \"dtype\": \"number\",\n        \"std\": 107.02778603146199,\n        \"min\": 48.7,\n        \"max\": 682.07,\n        \"num_unique_values\": 511,\n        \"samples\": [\n          288.71,\n          319.61,\n          285.32\n        ],\n        \"semantic_type\": \"\",\n        \"description\": \"\"\n      }\n    },\n    {\n      \"column\": \"NOV\",\n      \"properties\": {\n        \"dtype\": \"number\",\n        \"std\": 130.18779657565298,\n        \"min\": 92.45,\n        \"max\": 1006.35,\n        \"num_unique_values\": 514,\n        \"samples\": [\n          868.18,\n          252.2,\n          408.84\n        ],\n        \"semantic_type\": \"\",\n        \"description\": \"\"\n      }\n    },\n    {\n      \"column\": \"DEC\",\n      \"properties\": {\n        \"dtype\": \"number\",\n        \"std\": 150.61027066589787,\n        \"min\": 54.12,\n        \"max\": 789.41,\n        \"num_unique_values\": 513,\n        \"samples\": [\n          537.52,\n          287.91,\n          533.59\n        ],\n        \"semantic_type\": \"\",\n        \"description\": \"\"\n      }\n    },\n    {\n      \"column\": \"ANNUAL RAINFALL\",\n      \"properties\": {\n        \"dtype\": \"number\",\n        \"std\": 558.7006992167983,\n        \"min\": 1686.5,\n        \"max\": 4900.47,\n        \"num_unique_values\": 517,\n        \"samples\": [\n          2049.62,\n          3175.54,\n          3489.5\n        ],\n        \"semantic_type\": \"\",\n        \"description\": \"\"\n      }\n    },\n    {\n      \"column\": \"FLOOD\",\n      \"properties\": {\n        \"dtype\": \"number\",\n        \"std\": 0,\n        \"min\": 0,\n        \"max\": 1,\n        \"num_unique_values\": 2,\n        \"samples\": [\n          1,\n          0\n        ],\n        \"semantic_type\": \"\",\n        \"description\": \"\"\n      }\n    }\n  ]\n}"
            }
          },
          "metadata": {},
          "execution_count": 32
        }
      ]
    },
    {
      "cell_type": "markdown",
      "source": [
        "## Explore the dataset"
      ],
      "metadata": {
        "id": "j5nzidYR9qis"
      }
    },
    {
      "cell_type": "code",
      "source": [
        "flood_df.info()"
      ],
      "metadata": {
        "execution": {
          "iopub.status.busy": "2024-04-04T07:06:30.403883Z",
          "iopub.execute_input": "2024-04-04T07:06:30.404199Z",
          "iopub.status.idle": "2024-04-04T07:06:30.424773Z",
          "shell.execute_reply.started": "2024-04-04T07:06:30.404173Z",
          "shell.execute_reply": "2024-04-04T07:06:30.423791Z"
        },
        "trusted": true,
        "colab": {
          "base_uri": "https://localhost:8080/"
        },
        "id": "XM7lQDLk9qis",
        "outputId": "67199545-76dd-4a4d-958f-9ca86fd55139"
      },
      "execution_count": null,
      "outputs": [
        {
          "output_type": "stream",
          "name": "stdout",
          "text": [
            "<class 'pandas.core.frame.DataFrame'>\n",
            "RangeIndex: 825 entries, 0 to 824\n",
            "Data columns (total 14 columns):\n",
            " #   Column           Non-Null Count  Dtype  \n",
            "---  ------           --------------  -----  \n",
            " 0   JAN              825 non-null    float64\n",
            " 1   FEB              825 non-null    float64\n",
            " 2   MAR              825 non-null    float64\n",
            " 3   APR              825 non-null    float64\n",
            " 4   MAY              825 non-null    float64\n",
            " 5   JUN              825 non-null    float64\n",
            " 6   JUL              825 non-null    float64\n",
            " 7   AUG              825 non-null    float64\n",
            " 8   SEP              825 non-null    float64\n",
            " 9   OCT              825 non-null    float64\n",
            " 10  NOV              825 non-null    float64\n",
            " 11  DEC              825 non-null    float64\n",
            " 12  ANNUAL RAINFALL  825 non-null    float64\n",
            " 13  FLOOD            825 non-null    int64  \n",
            "dtypes: float64(13), int64(1)\n",
            "memory usage: 90.4 KB\n"
          ]
        }
      ]
    },
    {
      "cell_type": "code",
      "source": [
        "M = flood_df.shape[0]\n",
        "\n",
        "print('Number of samples =', M)"
      ],
      "metadata": {
        "execution": {
          "iopub.status.busy": "2024-04-04T07:06:30.425953Z",
          "iopub.execute_input": "2024-04-04T07:06:30.426292Z",
          "iopub.status.idle": "2024-04-04T07:06:30.431352Z",
          "shell.execute_reply.started": "2024-04-04T07:06:30.426266Z",
          "shell.execute_reply": "2024-04-04T07:06:30.430433Z"
        },
        "trusted": true,
        "colab": {
          "base_uri": "https://localhost:8080/"
        },
        "id": "g8jb-3929qis",
        "outputId": "746b38c1-8d90-4bb9-db11-1ee527ed508d"
      },
      "execution_count": null,
      "outputs": [
        {
          "output_type": "stream",
          "name": "stdout",
          "text": [
            "Number of samples = 825\n"
          ]
        }
      ]
    },
    {
      "cell_type": "code",
      "source": [
        "# Cheak if any colomns is left empty\n",
        "flood_df.isnull().sum()"
      ],
      "metadata": {
        "execution": {
          "iopub.status.busy": "2024-04-04T07:06:30.432700Z",
          "iopub.execute_input": "2024-04-04T07:06:30.433302Z",
          "iopub.status.idle": "2024-04-04T07:06:30.443779Z",
          "shell.execute_reply.started": "2024-04-04T07:06:30.433269Z",
          "shell.execute_reply": "2024-04-04T07:06:30.443023Z"
        },
        "trusted": true,
        "colab": {
          "base_uri": "https://localhost:8080/"
        },
        "id": "6T_j5UZm9qit",
        "outputId": "f15fce06-d923-4b51-cba7-8cf66309439e"
      },
      "execution_count": null,
      "outputs": [
        {
          "output_type": "execute_result",
          "data": {
            "text/plain": [
              "JAN                0\n",
              "FEB                0\n",
              "MAR                0\n",
              "APR                0\n",
              "MAY                0\n",
              "JUN                0\n",
              "JUL                0\n",
              "AUG                0\n",
              "SEP                0\n",
              "OCT                0\n",
              "NOV                0\n",
              "DEC                0\n",
              "ANNUAL RAINFALL    0\n",
              "FLOOD              0\n",
              "dtype: int64"
            ]
          },
          "metadata": {},
          "execution_count": 35
        }
      ]
    },
    {
      "cell_type": "code",
      "source": [
        "flood_df.describe()"
      ],
      "metadata": {
        "execution": {
          "iopub.status.busy": "2024-04-04T07:06:30.444896Z",
          "iopub.execute_input": "2024-04-04T07:06:30.445206Z",
          "iopub.status.idle": "2024-04-04T07:06:30.493364Z",
          "shell.execute_reply.started": "2024-04-04T07:06:30.445181Z",
          "shell.execute_reply": "2024-04-04T07:06:30.492468Z"
        },
        "trusted": true,
        "colab": {
          "base_uri": "https://localhost:8080/",
          "height": 337
        },
        "id": "0AsCaU_79qit",
        "outputId": "5439ed61-771b-420c-e8f6-36752ac15258"
      },
      "execution_count": null,
      "outputs": [
        {
          "output_type": "execute_result",
          "data": {
            "text/plain": [
              "               JAN         FEB         MAR         APR         MAY  \\\n",
              "count   825.000000  825.000000  825.000000  825.000000  825.000000   \n",
              "mean    234.117527  146.523309  190.234715  195.297673  185.783952   \n",
              "std     174.996518  120.125859   84.469198   82.442372   73.098666   \n",
              "min       3.650000    3.010000   22.580000   29.540000   67.610000   \n",
              "25%      99.010000   51.540000  125.690000  133.220000  128.780000   \n",
              "50%     193.950000  121.380000  185.450000  193.010000  171.510000   \n",
              "75%     308.690000  205.300000  239.090000  246.010000  231.200000   \n",
              "max    1103.880000  614.670000  476.170000  431.920000  411.290000   \n",
              "\n",
              "              JUN         JUL         AUG         SEP         OCT  \\\n",
              "count  825.000000  825.000000  825.000000  825.000000  825.000000   \n",
              "mean   184.996194  198.949261  203.721261  228.316667  301.028303   \n",
              "std     82.356570   73.642059   64.378187   77.334859  107.027786   \n",
              "min     54.510000   73.030000   83.250000   81.350000   48.700000   \n",
              "25%    121.830000  153.200000  158.910000  174.520000  230.710000   \n",
              "50%    171.980000  183.740000  195.780000  211.870000  285.760000   \n",
              "75%    223.890000  228.080000  234.800000  265.890000  351.920000   \n",
              "max    460.610000  576.850000  475.360000  746.540000  682.070000   \n",
              "\n",
              "               NOV         DEC  ANNUAL RAINFALL       FLOOD  \n",
              "count   825.000000  825.000000       825.000000  825.000000  \n",
              "mean    319.190570  318.813867      2706.973358    0.420606  \n",
              "std     130.187797  150.610271       558.700699    0.493956  \n",
              "min      92.450000   54.120000      1686.500000    0.000000  \n",
              "25%     227.720000  207.800000      2308.590000    0.000000  \n",
              "50%     299.790000  276.930000      2580.060000    0.000000  \n",
              "75%     370.360000  412.450000      3022.760000    1.000000  \n",
              "max    1006.350000  789.410000      4900.470000    1.000000  "
            ],
            "text/html": [
              "\n",
              "  <div id=\"df-60ce93ce-669c-4bbb-8b3d-8e89a6a6d80b\" class=\"colab-df-container\">\n",
              "    <div>\n",
              "<style scoped>\n",
              "    .dataframe tbody tr th:only-of-type {\n",
              "        vertical-align: middle;\n",
              "    }\n",
              "\n",
              "    .dataframe tbody tr th {\n",
              "        vertical-align: top;\n",
              "    }\n",
              "\n",
              "    .dataframe thead th {\n",
              "        text-align: right;\n",
              "    }\n",
              "</style>\n",
              "<table border=\"1\" class=\"dataframe\">\n",
              "  <thead>\n",
              "    <tr style=\"text-align: right;\">\n",
              "      <th></th>\n",
              "      <th>JAN</th>\n",
              "      <th>FEB</th>\n",
              "      <th>MAR</th>\n",
              "      <th>APR</th>\n",
              "      <th>MAY</th>\n",
              "      <th>JUN</th>\n",
              "      <th>JUL</th>\n",
              "      <th>AUG</th>\n",
              "      <th>SEP</th>\n",
              "      <th>OCT</th>\n",
              "      <th>NOV</th>\n",
              "      <th>DEC</th>\n",
              "      <th>ANNUAL RAINFALL</th>\n",
              "      <th>FLOOD</th>\n",
              "    </tr>\n",
              "  </thead>\n",
              "  <tbody>\n",
              "    <tr>\n",
              "      <th>count</th>\n",
              "      <td>825.000000</td>\n",
              "      <td>825.000000</td>\n",
              "      <td>825.000000</td>\n",
              "      <td>825.000000</td>\n",
              "      <td>825.000000</td>\n",
              "      <td>825.000000</td>\n",
              "      <td>825.000000</td>\n",
              "      <td>825.000000</td>\n",
              "      <td>825.000000</td>\n",
              "      <td>825.000000</td>\n",
              "      <td>825.000000</td>\n",
              "      <td>825.000000</td>\n",
              "      <td>825.000000</td>\n",
              "      <td>825.000000</td>\n",
              "    </tr>\n",
              "    <tr>\n",
              "      <th>mean</th>\n",
              "      <td>234.117527</td>\n",
              "      <td>146.523309</td>\n",
              "      <td>190.234715</td>\n",
              "      <td>195.297673</td>\n",
              "      <td>185.783952</td>\n",
              "      <td>184.996194</td>\n",
              "      <td>198.949261</td>\n",
              "      <td>203.721261</td>\n",
              "      <td>228.316667</td>\n",
              "      <td>301.028303</td>\n",
              "      <td>319.190570</td>\n",
              "      <td>318.813867</td>\n",
              "      <td>2706.973358</td>\n",
              "      <td>0.420606</td>\n",
              "    </tr>\n",
              "    <tr>\n",
              "      <th>std</th>\n",
              "      <td>174.996518</td>\n",
              "      <td>120.125859</td>\n",
              "      <td>84.469198</td>\n",
              "      <td>82.442372</td>\n",
              "      <td>73.098666</td>\n",
              "      <td>82.356570</td>\n",
              "      <td>73.642059</td>\n",
              "      <td>64.378187</td>\n",
              "      <td>77.334859</td>\n",
              "      <td>107.027786</td>\n",
              "      <td>130.187797</td>\n",
              "      <td>150.610271</td>\n",
              "      <td>558.700699</td>\n",
              "      <td>0.493956</td>\n",
              "    </tr>\n",
              "    <tr>\n",
              "      <th>min</th>\n",
              "      <td>3.650000</td>\n",
              "      <td>3.010000</td>\n",
              "      <td>22.580000</td>\n",
              "      <td>29.540000</td>\n",
              "      <td>67.610000</td>\n",
              "      <td>54.510000</td>\n",
              "      <td>73.030000</td>\n",
              "      <td>83.250000</td>\n",
              "      <td>81.350000</td>\n",
              "      <td>48.700000</td>\n",
              "      <td>92.450000</td>\n",
              "      <td>54.120000</td>\n",
              "      <td>1686.500000</td>\n",
              "      <td>0.000000</td>\n",
              "    </tr>\n",
              "    <tr>\n",
              "      <th>25%</th>\n",
              "      <td>99.010000</td>\n",
              "      <td>51.540000</td>\n",
              "      <td>125.690000</td>\n",
              "      <td>133.220000</td>\n",
              "      <td>128.780000</td>\n",
              "      <td>121.830000</td>\n",
              "      <td>153.200000</td>\n",
              "      <td>158.910000</td>\n",
              "      <td>174.520000</td>\n",
              "      <td>230.710000</td>\n",
              "      <td>227.720000</td>\n",
              "      <td>207.800000</td>\n",
              "      <td>2308.590000</td>\n",
              "      <td>0.000000</td>\n",
              "    </tr>\n",
              "    <tr>\n",
              "      <th>50%</th>\n",
              "      <td>193.950000</td>\n",
              "      <td>121.380000</td>\n",
              "      <td>185.450000</td>\n",
              "      <td>193.010000</td>\n",
              "      <td>171.510000</td>\n",
              "      <td>171.980000</td>\n",
              "      <td>183.740000</td>\n",
              "      <td>195.780000</td>\n",
              "      <td>211.870000</td>\n",
              "      <td>285.760000</td>\n",
              "      <td>299.790000</td>\n",
              "      <td>276.930000</td>\n",
              "      <td>2580.060000</td>\n",
              "      <td>0.000000</td>\n",
              "    </tr>\n",
              "    <tr>\n",
              "      <th>75%</th>\n",
              "      <td>308.690000</td>\n",
              "      <td>205.300000</td>\n",
              "      <td>239.090000</td>\n",
              "      <td>246.010000</td>\n",
              "      <td>231.200000</td>\n",
              "      <td>223.890000</td>\n",
              "      <td>228.080000</td>\n",
              "      <td>234.800000</td>\n",
              "      <td>265.890000</td>\n",
              "      <td>351.920000</td>\n",
              "      <td>370.360000</td>\n",
              "      <td>412.450000</td>\n",
              "      <td>3022.760000</td>\n",
              "      <td>1.000000</td>\n",
              "    </tr>\n",
              "    <tr>\n",
              "      <th>max</th>\n",
              "      <td>1103.880000</td>\n",
              "      <td>614.670000</td>\n",
              "      <td>476.170000</td>\n",
              "      <td>431.920000</td>\n",
              "      <td>411.290000</td>\n",
              "      <td>460.610000</td>\n",
              "      <td>576.850000</td>\n",
              "      <td>475.360000</td>\n",
              "      <td>746.540000</td>\n",
              "      <td>682.070000</td>\n",
              "      <td>1006.350000</td>\n",
              "      <td>789.410000</td>\n",
              "      <td>4900.470000</td>\n",
              "      <td>1.000000</td>\n",
              "    </tr>\n",
              "  </tbody>\n",
              "</table>\n",
              "</div>\n",
              "    <div class=\"colab-df-buttons\">\n",
              "\n",
              "  <div class=\"colab-df-container\">\n",
              "    <button class=\"colab-df-convert\" onclick=\"convertToInteractive('df-60ce93ce-669c-4bbb-8b3d-8e89a6a6d80b')\"\n",
              "            title=\"Convert this dataframe to an interactive table.\"\n",
              "            style=\"display:none;\">\n",
              "\n",
              "  <svg xmlns=\"http://www.w3.org/2000/svg\" height=\"24px\" viewBox=\"0 -960 960 960\">\n",
              "    <path d=\"M120-120v-720h720v720H120Zm60-500h600v-160H180v160Zm220 220h160v-160H400v160Zm0 220h160v-160H400v160ZM180-400h160v-160H180v160Zm440 0h160v-160H620v160ZM180-180h160v-160H180v160Zm440 0h160v-160H620v160Z\"/>\n",
              "  </svg>\n",
              "    </button>\n",
              "\n",
              "  <style>\n",
              "    .colab-df-container {\n",
              "      display:flex;\n",
              "      gap: 12px;\n",
              "    }\n",
              "\n",
              "    .colab-df-convert {\n",
              "      background-color: #E8F0FE;\n",
              "      border: none;\n",
              "      border-radius: 50%;\n",
              "      cursor: pointer;\n",
              "      display: none;\n",
              "      fill: #1967D2;\n",
              "      height: 32px;\n",
              "      padding: 0 0 0 0;\n",
              "      width: 32px;\n",
              "    }\n",
              "\n",
              "    .colab-df-convert:hover {\n",
              "      background-color: #E2EBFA;\n",
              "      box-shadow: 0px 1px 2px rgba(60, 64, 67, 0.3), 0px 1px 3px 1px rgba(60, 64, 67, 0.15);\n",
              "      fill: #174EA6;\n",
              "    }\n",
              "\n",
              "    .colab-df-buttons div {\n",
              "      margin-bottom: 4px;\n",
              "    }\n",
              "\n",
              "    [theme=dark] .colab-df-convert {\n",
              "      background-color: #3B4455;\n",
              "      fill: #D2E3FC;\n",
              "    }\n",
              "\n",
              "    [theme=dark] .colab-df-convert:hover {\n",
              "      background-color: #434B5C;\n",
              "      box-shadow: 0px 1px 3px 1px rgba(0, 0, 0, 0.15);\n",
              "      filter: drop-shadow(0px 1px 2px rgba(0, 0, 0, 0.3));\n",
              "      fill: #FFFFFF;\n",
              "    }\n",
              "  </style>\n",
              "\n",
              "    <script>\n",
              "      const buttonEl =\n",
              "        document.querySelector('#df-60ce93ce-669c-4bbb-8b3d-8e89a6a6d80b button.colab-df-convert');\n",
              "      buttonEl.style.display =\n",
              "        google.colab.kernel.accessAllowed ? 'block' : 'none';\n",
              "\n",
              "      async function convertToInteractive(key) {\n",
              "        const element = document.querySelector('#df-60ce93ce-669c-4bbb-8b3d-8e89a6a6d80b');\n",
              "        const dataTable =\n",
              "          await google.colab.kernel.invokeFunction('convertToInteractive',\n",
              "                                                    [key], {});\n",
              "        if (!dataTable) return;\n",
              "\n",
              "        const docLinkHtml = 'Like what you see? Visit the ' +\n",
              "          '<a target=\"_blank\" href=https://colab.research.google.com/notebooks/data_table.ipynb>data table notebook</a>'\n",
              "          + ' to learn more about interactive tables.';\n",
              "        element.innerHTML = '';\n",
              "        dataTable['output_type'] = 'display_data';\n",
              "        await google.colab.output.renderOutput(dataTable, element);\n",
              "        const docLink = document.createElement('div');\n",
              "        docLink.innerHTML = docLinkHtml;\n",
              "        element.appendChild(docLink);\n",
              "      }\n",
              "    </script>\n",
              "  </div>\n",
              "\n",
              "\n",
              "<div id=\"df-d7ac85f8-af85-4305-abcb-7aec2394ce58\">\n",
              "  <button class=\"colab-df-quickchart\" onclick=\"quickchart('df-d7ac85f8-af85-4305-abcb-7aec2394ce58')\"\n",
              "            title=\"Suggest charts\"\n",
              "            style=\"display:none;\">\n",
              "\n",
              "<svg xmlns=\"http://www.w3.org/2000/svg\" height=\"24px\"viewBox=\"0 0 24 24\"\n",
              "     width=\"24px\">\n",
              "    <g>\n",
              "        <path d=\"M19 3H5c-1.1 0-2 .9-2 2v14c0 1.1.9 2 2 2h14c1.1 0 2-.9 2-2V5c0-1.1-.9-2-2-2zM9 17H7v-7h2v7zm4 0h-2V7h2v10zm4 0h-2v-4h2v4z\"/>\n",
              "    </g>\n",
              "</svg>\n",
              "  </button>\n",
              "\n",
              "<style>\n",
              "  .colab-df-quickchart {\n",
              "      --bg-color: #E8F0FE;\n",
              "      --fill-color: #1967D2;\n",
              "      --hover-bg-color: #E2EBFA;\n",
              "      --hover-fill-color: #174EA6;\n",
              "      --disabled-fill-color: #AAA;\n",
              "      --disabled-bg-color: #DDD;\n",
              "  }\n",
              "\n",
              "  [theme=dark] .colab-df-quickchart {\n",
              "      --bg-color: #3B4455;\n",
              "      --fill-color: #D2E3FC;\n",
              "      --hover-bg-color: #434B5C;\n",
              "      --hover-fill-color: #FFFFFF;\n",
              "      --disabled-bg-color: #3B4455;\n",
              "      --disabled-fill-color: #666;\n",
              "  }\n",
              "\n",
              "  .colab-df-quickchart {\n",
              "    background-color: var(--bg-color);\n",
              "    border: none;\n",
              "    border-radius: 50%;\n",
              "    cursor: pointer;\n",
              "    display: none;\n",
              "    fill: var(--fill-color);\n",
              "    height: 32px;\n",
              "    padding: 0;\n",
              "    width: 32px;\n",
              "  }\n",
              "\n",
              "  .colab-df-quickchart:hover {\n",
              "    background-color: var(--hover-bg-color);\n",
              "    box-shadow: 0 1px 2px rgba(60, 64, 67, 0.3), 0 1px 3px 1px rgba(60, 64, 67, 0.15);\n",
              "    fill: var(--button-hover-fill-color);\n",
              "  }\n",
              "\n",
              "  .colab-df-quickchart-complete:disabled,\n",
              "  .colab-df-quickchart-complete:disabled:hover {\n",
              "    background-color: var(--disabled-bg-color);\n",
              "    fill: var(--disabled-fill-color);\n",
              "    box-shadow: none;\n",
              "  }\n",
              "\n",
              "  .colab-df-spinner {\n",
              "    border: 2px solid var(--fill-color);\n",
              "    border-color: transparent;\n",
              "    border-bottom-color: var(--fill-color);\n",
              "    animation:\n",
              "      spin 1s steps(1) infinite;\n",
              "  }\n",
              "\n",
              "  @keyframes spin {\n",
              "    0% {\n",
              "      border-color: transparent;\n",
              "      border-bottom-color: var(--fill-color);\n",
              "      border-left-color: var(--fill-color);\n",
              "    }\n",
              "    20% {\n",
              "      border-color: transparent;\n",
              "      border-left-color: var(--fill-color);\n",
              "      border-top-color: var(--fill-color);\n",
              "    }\n",
              "    30% {\n",
              "      border-color: transparent;\n",
              "      border-left-color: var(--fill-color);\n",
              "      border-top-color: var(--fill-color);\n",
              "      border-right-color: var(--fill-color);\n",
              "    }\n",
              "    40% {\n",
              "      border-color: transparent;\n",
              "      border-right-color: var(--fill-color);\n",
              "      border-top-color: var(--fill-color);\n",
              "    }\n",
              "    60% {\n",
              "      border-color: transparent;\n",
              "      border-right-color: var(--fill-color);\n",
              "    }\n",
              "    80% {\n",
              "      border-color: transparent;\n",
              "      border-right-color: var(--fill-color);\n",
              "      border-bottom-color: var(--fill-color);\n",
              "    }\n",
              "    90% {\n",
              "      border-color: transparent;\n",
              "      border-bottom-color: var(--fill-color);\n",
              "    }\n",
              "  }\n",
              "</style>\n",
              "\n",
              "  <script>\n",
              "    async function quickchart(key) {\n",
              "      const quickchartButtonEl =\n",
              "        document.querySelector('#' + key + ' button');\n",
              "      quickchartButtonEl.disabled = true;  // To prevent multiple clicks.\n",
              "      quickchartButtonEl.classList.add('colab-df-spinner');\n",
              "      try {\n",
              "        const charts = await google.colab.kernel.invokeFunction(\n",
              "            'suggestCharts', [key], {});\n",
              "      } catch (error) {\n",
              "        console.error('Error during call to suggestCharts:', error);\n",
              "      }\n",
              "      quickchartButtonEl.classList.remove('colab-df-spinner');\n",
              "      quickchartButtonEl.classList.add('colab-df-quickchart-complete');\n",
              "    }\n",
              "    (() => {\n",
              "      let quickchartButtonEl =\n",
              "        document.querySelector('#df-d7ac85f8-af85-4305-abcb-7aec2394ce58 button');\n",
              "      quickchartButtonEl.style.display =\n",
              "        google.colab.kernel.accessAllowed ? 'block' : 'none';\n",
              "    })();\n",
              "  </script>\n",
              "</div>\n",
              "\n",
              "    </div>\n",
              "  </div>\n"
            ],
            "application/vnd.google.colaboratory.intrinsic+json": {
              "type": "dataframe",
              "summary": "{\n  \"name\": \"flood_df\",\n  \"rows\": 8,\n  \"fields\": [\n    {\n      \"column\": \"JAN\",\n      \"properties\": {\n        \"dtype\": \"number\",\n        \"std\": 386.27540028477137,\n        \"min\": 3.65,\n        \"max\": 1103.88,\n        \"num_unique_values\": 8,\n        \"samples\": [\n          234.11752727272722,\n          193.95,\n          825.0\n        ],\n        \"semantic_type\": \"\",\n        \"description\": \"\"\n      }\n    },\n    {\n      \"column\": \"FEB\",\n      \"properties\": {\n        \"dtype\": \"number\",\n        \"std\": 294.9957495714881,\n        \"min\": 3.01,\n        \"max\": 825.0,\n        \"num_unique_values\": 8,\n        \"samples\": [\n          146.5233090909091,\n          121.38,\n          825.0\n        ],\n        \"semantic_type\": \"\",\n        \"description\": \"\"\n      }\n    },\n    {\n      \"column\": \"MAR\",\n      \"properties\": {\n        \"dtype\": \"number\",\n        \"std\": 262.2554382592444,\n        \"min\": 22.58,\n        \"max\": 825.0,\n        \"num_unique_values\": 8,\n        \"samples\": [\n          190.23471515151516,\n          185.45,\n          825.0\n        ],\n        \"semantic_type\": \"\",\n        \"description\": \"\"\n      }\n    },\n    {\n      \"column\": \"APR\",\n      \"properties\": {\n        \"dtype\": \"number\",\n        \"std\": 255.78025280117572,\n        \"min\": 29.54,\n        \"max\": 825.0,\n        \"num_unique_values\": 8,\n        \"samples\": [\n          195.2976727272727,\n          193.01,\n          825.0\n        ],\n        \"semantic_type\": \"\",\n        \"description\": \"\"\n      }\n    },\n    {\n      \"column\": \"MAY\",\n      \"properties\": {\n        \"dtype\": \"number\",\n        \"std\": 252.2529488945101,\n        \"min\": 67.61,\n        \"max\": 825.0,\n        \"num_unique_values\": 8,\n        \"samples\": [\n          185.78395151515153,\n          171.51,\n          825.0\n        ],\n        \"semantic_type\": \"\",\n        \"description\": \"\"\n      }\n    },\n    {\n      \"column\": \"JUN\",\n      \"properties\": {\n        \"dtype\": \"number\",\n        \"std\": 258.2262575001752,\n        \"min\": 54.51,\n        \"max\": 825.0,\n        \"num_unique_values\": 8,\n        \"samples\": [\n          184.99619393939392,\n          171.98,\n          825.0\n        ],\n        \"semantic_type\": \"\",\n        \"description\": \"\"\n      }\n    },\n    {\n      \"column\": \"JUL\",\n      \"properties\": {\n        \"dtype\": \"number\",\n        \"std\": 268.46584392268795,\n        \"min\": 73.03,\n        \"max\": 825.0,\n        \"num_unique_values\": 8,\n        \"samples\": [\n          198.94926060606062,\n          183.74,\n          825.0\n        ],\n        \"semantic_type\": \"\",\n        \"description\": \"\"\n      }\n    },\n    {\n      \"column\": \"AUG\",\n      \"properties\": {\n        \"dtype\": \"number\",\n        \"std\": 253.54936431304185,\n        \"min\": 64.37818719878013,\n        \"max\": 825.0,\n        \"num_unique_values\": 8,\n        \"samples\": [\n          203.7212606060606,\n          195.78,\n          825.0\n        ],\n        \"semantic_type\": \"\",\n        \"description\": \"\"\n      }\n    },\n    {\n      \"column\": \"SEP\",\n      \"properties\": {\n        \"dtype\": \"number\",\n        \"std\": 291.956201264458,\n        \"min\": 77.33485927380792,\n        \"max\": 825.0,\n        \"num_unique_values\": 8,\n        \"samples\": [\n          228.31666666666666,\n          211.87,\n          825.0\n        ],\n        \"semantic_type\": \"\",\n        \"description\": \"\"\n      }\n    },\n    {\n      \"column\": \"OCT\",\n      \"properties\": {\n        \"dtype\": \"number\",\n        \"std\": 268.95080068283346,\n        \"min\": 48.7,\n        \"max\": 825.0,\n        \"num_unique_values\": 8,\n        \"samples\": [\n          301.02830303030305,\n          285.76,\n          825.0\n        ],\n        \"semantic_type\": \"\",\n        \"description\": \"\"\n      }\n    },\n    {\n      \"column\": \"NOV\",\n      \"properties\": {\n        \"dtype\": \"number\",\n        \"std\": 329.97209891765317,\n        \"min\": 92.45,\n        \"max\": 1006.35,\n        \"num_unique_values\": 8,\n        \"samples\": [\n          319.19056969696965,\n          299.79,\n          825.0\n        ],\n        \"semantic_type\": \"\",\n        \"description\": \"\"\n      }\n    },\n    {\n      \"column\": \"DEC\",\n      \"properties\": {\n        \"dtype\": \"number\",\n        \"std\": 285.2390028326671,\n        \"min\": 54.12,\n        \"max\": 825.0,\n        \"num_unique_values\": 8,\n        \"samples\": [\n          318.8138666666667,\n          276.93,\n          825.0\n        ],\n        \"semantic_type\": \"\",\n        \"description\": \"\"\n      }\n    },\n    {\n      \"column\": \"ANNUAL RAINFALL\",\n      \"properties\": {\n        \"dtype\": \"number\",\n        \"std\": 1368.4518765658324,\n        \"min\": 558.7006992167983,\n        \"max\": 4900.47,\n        \"num_unique_values\": 8,\n        \"samples\": [\n          2706.9733575757577,\n          2580.06,\n          825.0\n        ],\n        \"semantic_type\": \"\",\n        \"description\": \"\"\n      }\n    },\n    {\n      \"column\": \"FLOOD\",\n      \"properties\": {\n        \"dtype\": \"number\",\n        \"std\": 291.53463545284484,\n        \"min\": 0.0,\n        \"max\": 825.0,\n        \"num_unique_values\": 5,\n        \"samples\": [\n          0.4206060606060606,\n          1.0,\n          0.49395581856212584\n        ],\n        \"semantic_type\": \"\",\n        \"description\": \"\"\n      }\n    }\n  ]\n}"
            }
          },
          "metadata": {},
          "execution_count": 36
        }
      ]
    },
    {
      "cell_type": "code",
      "source": [
        "num_pos = flood_df['FLOOD'].value_counts()[1]\n",
        "num_neg = flood_df['FLOOD'].value_counts()[0]\n",
        "\n",
        "print('Number of flood: ', num_pos)\n",
        "print('Number of no flood:', num_neg)"
      ],
      "metadata": {
        "execution": {
          "iopub.status.busy": "2024-04-04T07:06:30.494525Z",
          "iopub.execute_input": "2024-04-04T07:06:30.494871Z",
          "iopub.status.idle": "2024-04-04T07:06:30.502167Z",
          "shell.execute_reply.started": "2024-04-04T07:06:30.494847Z",
          "shell.execute_reply": "2024-04-04T07:06:30.501206Z"
        },
        "trusted": true,
        "colab": {
          "base_uri": "https://localhost:8080/"
        },
        "id": "3nJnrMcF9qit",
        "outputId": "6566b99f-84ed-4aba-d905-33e5c27cfddc"
      },
      "execution_count": null,
      "outputs": [
        {
          "output_type": "stream",
          "name": "stdout",
          "text": [
            "Number of flood:  347\n",
            "Number of no flood: 478\n"
          ]
        }
      ]
    },
    {
      "cell_type": "code",
      "source": [
        "plt.figure(figsize=(10, 6))\n",
        "flood_df['FLOOD'].value_counts().plot(kind='bar')\n",
        "plt.xlabel('No Flood or Flood')\n",
        "plt.ylabel('Numbers of Flooding')\n",
        "plt.title(\"Flood Occurrence\")"
      ],
      "metadata": {
        "execution": {
          "iopub.status.busy": "2024-04-04T07:06:30.503444Z",
          "iopub.execute_input": "2024-04-04T07:06:30.503827Z",
          "iopub.status.idle": "2024-04-04T07:06:30.823043Z",
          "shell.execute_reply.started": "2024-04-04T07:06:30.503795Z",
          "shell.execute_reply": "2024-04-04T07:06:30.821986Z"
        },
        "trusted": true,
        "colab": {
          "base_uri": "https://localhost:8080/",
          "height": 576
        },
        "id": "LODD-Qr99qit",
        "outputId": "4487bee7-fcf3-43d8-d176-423d4b59fd44"
      },
      "execution_count": null,
      "outputs": [
        {
          "output_type": "execute_result",
          "data": {
            "text/plain": [
              "Text(0.5, 1.0, 'Flood Occurrence')"
            ]
          },
          "metadata": {},
          "execution_count": 38
        },
        {
          "output_type": "display_data",
          "data": {
            "text/plain": [
              "<Figure size 1000x600 with 1 Axes>"
            ],
            "image/png": "[encoded data removed]"
          },
          "metadata": {}
        }
      ]
    },
    {
      "cell_type": "code",
      "source": [
        "# Let's see how the rainfall index vary during rainy season (Sep - Nov, Nov - Jan)\n",
        "\n",
        "%matplotlib inline\n",
        "c = flood_df[['SEP','OCT','NOV','DEC']]\n",
        "c.hist()\n",
        "plt.show()"
      ],
      "metadata": {
        "execution": {
          "iopub.status.busy": "2024-04-04T07:06:30.827776Z",
          "iopub.execute_input": "2024-04-04T07:06:30.828522Z",
          "iopub.status.idle": "2024-04-04T07:06:31.526775Z",
          "shell.execute_reply.started": "2024-04-04T07:06:30.828490Z",
          "shell.execute_reply": "2024-04-04T07:06:31.525772Z"
        },
        "trusted": true,
        "colab": {
          "base_uri": "https://localhost:8080/",
          "height": 452
        },
        "id": "OVMqZGQY9qiu",
        "outputId": "8dbc19c5-d990-4d6e-9be1-07560bb8b0c6"
      },
      "execution_count": null,
      "outputs": [
        {
          "output_type": "display_data",
          "data": {
            "text/plain": [
              "<Figure size 640x480 with 4 Axes>"
            ],
            "image/png": "[encoded data removed]"
          },
          "metadata": {}
        }
      ]
    },
    {
      "cell_type": "markdown",
      "source": [
        "---\n",
        "# Data preprocessing\n",
        "## Split the dataset into training and testing set"
      ],
      "metadata": {
        "id": "KJrzBjkH9qiu"
      }
    },
    {
      "cell_type": "code",
      "source": [
        "X = flood_df.drop('FLOOD', axis=1)\n",
        "y = flood_df['FLOOD']\n",
        "\n",
        "\n",
        "print ('Shape of original dataset:', flood_df.shape)\n",
        "print('Shape of X_df:', X.shape)\n",
        "print('Shape of y_df:', y.shape)"
      ],
      "metadata": {
        "execution": {
          "iopub.status.busy": "2024-04-04T07:06:31.528099Z",
          "iopub.execute_input": "2024-04-04T07:06:31.528465Z",
          "iopub.status.idle": "2024-04-04T07:06:31.536093Z",
          "shell.execute_reply.started": "2024-04-04T07:06:31.528430Z",
          "shell.execute_reply": "2024-04-04T07:06:31.534967Z"
        },
        "trusted": true,
        "colab": {
          "base_uri": "https://localhost:8080/"
        },
        "id": "2ohV1iex9qiu",
        "outputId": "5bcecdab-8f4b-4135-bae1-86eaa967a05b"
      },
      "execution_count": null,
      "outputs": [
        {
          "output_type": "stream",
          "name": "stdout",
          "text": [
            "Shape of original dataset: (825, 14)\n",
            "Shape of X_df: (825, 13)\n",
            "Shape of y_df: (825,)\n"
          ]
        }
      ]
    },
    {
      "cell_type": "code",
      "source": [
        "# Split the dataset\n",
        "X_train, X_test, y_train, y_test = train_test_split(X, y, test_size=0.1, random_state=42)\n",
        "\n",
        "print('Shape of X_train:', X_train.shape)\n",
        "print('Shape of y_train:', y_train.shape)\n",
        "print('Shape of X_test:', X_test.shape)\n",
        "print('Shape of y_test:', y_test.shape)"
      ],
      "metadata": {
        "execution": {
          "iopub.status.busy": "2024-04-04T07:06:31.537380Z",
          "iopub.execute_input": "2024-04-04T07:06:31.537739Z",
          "iopub.status.idle": "2024-04-04T07:06:31.551543Z",
          "shell.execute_reply.started": "2024-04-04T07:06:31.537714Z",
          "shell.execute_reply": "2024-04-04T07:06:31.550531Z"
        },
        "trusted": true,
        "colab": {
          "base_uri": "https://localhost:8080/"
        },
        "id": "ZWZg24_89qiu",
        "outputId": "c417d8d0-59e2-4f35-edff-c0509e5dc584"
      },
      "execution_count": null,
      "outputs": [
        {
          "output_type": "stream",
          "name": "stdout",
          "text": [
            "Shape of X_train: (742, 13)\n",
            "Shape of y_train: (742,)\n",
            "Shape of X_test: (83, 13)\n",
            "Shape of y_test: (83,)\n"
          ]
        }
      ]
    },
    {
      "cell_type": "code",
      "source": [
        "print(X_test[:5])\n",
        "print(y_test[:5])"
      ],
      "metadata": {
        "colab": {
          "base_uri": "https://localhost:8080/"
        },
        "id": "JrfzygXYlz83",
        "outputId": "e5ba9e8b-6c1f-430f-d700-426701135cd7"
      },
      "execution_count": null,
      "outputs": [
        {
          "output_type": "stream",
          "name": "stdout",
          "text": [
            "        JAN     FEB     MAR     APR     MAY     JUN     JUL     AUG     SEP  \\\n",
            "611  338.09  216.72  151.03  221.84  382.48  445.17  292.82  227.84  476.69   \n",
            "174  279.03  173.54  339.79  207.52  120.23  112.71  139.68  204.14  205.79   \n",
            "67   186.43   18.50  189.69  185.57  148.93  149.56  170.67  201.38  208.25   \n",
            "168  195.34  214.60  211.56  255.60  106.15  138.89  168.57  152.01  150.14   \n",
            "275  231.12  142.74  177.16  188.06   88.42  144.45  203.78  246.16  207.76   \n",
            "\n",
            "        OCT     NOV     DEC  ANNUAL RAINFALL  \n",
            "611  412.89   92.45  221.52          3479.55  \n",
            "174  232.85  318.36  384.48          2718.12  \n",
            "67   352.30  196.86  179.36          2187.49  \n",
            "168  387.29  352.78  255.46          2588.39  \n",
            "275  230.71  271.39  293.68          2425.44  \n",
            "611    1\n",
            "174    1\n",
            "67     0\n",
            "168    1\n",
            "275    0\n",
            "Name: FLOOD, dtype: int64\n"
          ]
        }
      ]
    },
    {
      "cell_type": "code",
      "source": [
        "# Standardize the data\n",
        "scaler = StandardScaler()\n",
        "X_train = scaler.fit_transform(X_train)\n",
        "X_test = scaler.transform(X_test)"
      ],
      "metadata": {
        "execution": {
          "iopub.status.busy": "2024-04-04T07:06:31.552790Z",
          "iopub.execute_input": "2024-04-04T07:06:31.553213Z",
          "iopub.status.idle": "2024-04-04T07:06:31.564732Z",
          "shell.execute_reply.started": "2024-04-04T07:06:31.553187Z",
          "shell.execute_reply": "2024-04-04T07:06:31.563733Z"
        },
        "trusted": true,
        "id": "yRn0X9OC9qiv"
      },
      "execution_count": null,
      "outputs": []
    },
    {
      "cell_type": "code",
      "source": [
        "print(scaler.mean_)\n",
        "print(scaler.var_)"
      ],
      "metadata": {
        "colab": {
          "base_uri": "https://localhost:8080/"
        },
        "id": "qvdeGfmESZFn",
        "outputId": "30a79d54-4d43-4f53-ec47-9bb6ead946d1"
      },
      "execution_count": null,
      "outputs": [
        {
          "output_type": "stream",
          "name": "stdout",
          "text": [
            "[ 234.46855795  143.84        189.6490027   194.10075472  185.84382749\n",
            "  184.12814016  200.09545822  203.83150943  228.91012129  303.68787062\n",
            "  317.4056469   320.23351752 2706.19455526]\n",
            "[ 31655.47755655  14301.39292264   7094.54185426   7022.60326089\n",
            "   5334.57776298   6756.81594128   5615.73950107   4269.5507298\n",
            "   6124.67849985  11934.4639297   16191.53928307  23194.28061121\n",
            " 318824.90069192]\n"
          ]
        }
      ]
    },
    {
      "cell_type": "markdown",
      "source": [
        "---\n",
        "# Training the model"
      ],
      "metadata": {
        "id": "CqZQK9KS9qiv"
      }
    },
    {
      "cell_type": "code",
      "source": [
        "# initializing the ANN model\n",
        "FloodDetector = Sequential()"
      ],
      "metadata": {
        "execution": {
          "iopub.status.busy": "2024-04-04T07:06:31.566007Z",
          "iopub.execute_input": "2024-04-04T07:06:31.566353Z",
          "iopub.status.idle": "2024-04-04T07:06:31.574925Z",
          "shell.execute_reply.started": "2024-04-04T07:06:31.566324Z",
          "shell.execute_reply": "2024-04-04T07:06:31.573920Z"
        },
        "trusted": true,
        "id": "jgufy6vw9qiv"
      },
      "execution_count": null,
      "outputs": []
    },
    {
      "cell_type": "code",
      "source": [
        "FloodDetector.add(Dense(32, kernel_initializer='uniform', activation='relu', input_dim=X_train.shape[1]))\n",
        "FloodDetector.add(Dropout(rate=0.1))\n",
        "FloodDetector.add(Dense(32, kernel_initializer='uniform', activation='relu'))\n",
        "FloodDetector.add(Dropout(rate=0.1))\n",
        "FloodDetector.add(Dense(1, kernel_initializer='uniform', activation='sigmoid'))"
      ],
      "metadata": {
        "execution": {
          "iopub.status.busy": "2024-04-04T07:06:31.576045Z",
          "iopub.execute_input": "2024-04-04T07:06:31.576325Z",
          "iopub.status.idle": "2024-04-04T07:06:32.317224Z",
          "shell.execute_reply.started": "2024-04-04T07:06:31.576304Z",
          "shell.execute_reply": "2024-04-04T07:06:32.316446Z"
        },
        "trusted": true,
        "id": "14bpzVSo9qiv"
      },
      "execution_count": null,
      "outputs": []
    },
    {
      "cell_type": "code",
      "source": [
        "FloodDetector.summary()"
      ],
      "metadata": {
        "execution": {
          "iopub.status.busy": "2024-04-04T07:06:32.318435Z",
          "iopub.execute_input": "2024-04-04T07:06:32.318923Z",
          "iopub.status.idle": "2024-04-04T07:06:32.341230Z",
          "shell.execute_reply.started": "2024-04-04T07:06:32.318886Z",
          "shell.execute_reply": "2024-04-04T07:06:32.340304Z"
        },
        "trusted": true,
        "colab": {
          "base_uri": "https://localhost:8080/"
        },
        "id": "sTK3DmpH9qiv",
        "outputId": "c07f9cf1-f6ab-4bc9-9cd9-a7723697a967"
      },
      "execution_count": null,
      "outputs": [
        {
          "output_type": "stream",
          "name": "stdout",
          "text": [
            "Model: \"sequential_1\"\n",
            "_________________________________________________________________\n",
            " Layer (type)                Output Shape              Param #   \n",
            "=================================================================\n",
            " dense_3 (Dense)             (None, 32)                448       \n",
            "                                                                 \n",
            " dropout_2 (Dropout)         (None, 32)                0         \n",
            "                                                                 \n",
            " dense_4 (Dense)             (None, 32)                1056      \n",
            "                                                                 \n",
            " dropout_3 (Dropout)         (None, 32)                0         \n",
            "                                                                 \n",
            " dense_5 (Dense)             (None, 1)                 33        \n",
            "                                                                 \n",
            "=================================================================\n",
            "Total params: 1537 (6.00 KB)\n",
            "Trainable params: 1537 (6.00 KB)\n",
            "Non-trainable params: 0 (0.00 Byte)\n",
            "_________________________________________________________________\n"
          ]
        }
      ]
    },
    {
      "cell_type": "code",
      "source": [
        "FloodDetector.compile(optimizer='Adam',loss='binary_crossentropy',metrics=['accuracy'])"
      ],
      "metadata": {
        "execution": {
          "iopub.status.busy": "2024-04-04T07:06:32.342480Z",
          "iopub.execute_input": "2024-04-04T07:06:32.343114Z",
          "iopub.status.idle": "2024-04-04T07:06:32.357975Z",
          "shell.execute_reply.started": "2024-04-04T07:06:32.343080Z",
          "shell.execute_reply": "2024-04-04T07:06:32.357010Z"
        },
        "trusted": true,
        "id": "BKgzjFtu9qiv"
      },
      "execution_count": null,
      "outputs": []
    },
    {
      "cell_type": "code",
      "source": [
        "history = FloodDetector.fit(X_train,y_train,batch_size=15,epochs=100,verbose=1,validation_split=0.1)"
      ],
      "metadata": {
        "execution": {
          "iopub.status.busy": "2024-04-04T07:06:32.359132Z",
          "iopub.execute_input": "2024-04-04T07:06:32.359445Z",
          "iopub.status.idle": "2024-04-04T07:06:55.188218Z",
          "shell.execute_reply.started": "2024-04-04T07:06:32.359419Z",
          "shell.execute_reply": "2024-04-04T07:06:55.187399Z"
        },
        "trusted": true,
        "colab": {
          "base_uri": "https://localhost:8080/"
        },
        "id": "LwBt9kSq9qiw",
        "outputId": "756a80ec-26fb-4e98-9025-d60fd33f56d9"
      },
      "execution_count": null,
      "outputs": [
        {
          "output_type": "stream",
          "name": "stdout",
          "text": [
            "Epoch 1/100\n",
            "45/45 [==============================] - 1s 6ms/step - loss: 0.6907 - accuracy: 0.5817 - val_loss: 0.6854 - val_accuracy: 0.5733\n",
            "Epoch 2/100\n",
            "45/45 [==============================] - 0s 3ms/step - loss: 0.6819 - accuracy: 0.5802 - val_loss: 0.6731 - val_accuracy: 0.5733\n",
            "Epoch 3/100\n",
            "45/45 [==============================] - 0s 2ms/step - loss: 0.6704 - accuracy: 0.5802 - val_loss: 0.6605 - val_accuracy: 0.5733\n",
            "Epoch 4/100\n",
            "45/45 [==============================] - 0s 3ms/step - loss: 0.6601 - accuracy: 0.5997 - val_loss: 0.6526 - val_accuracy: 0.6400\n",
            "Epoch 5/100\n",
            "45/45 [==============================] - 0s 2ms/step - loss: 0.6528 - accuracy: 0.6177 - val_loss: 0.6441 - val_accuracy: 0.6533\n",
            "Epoch 6/100\n",
            "45/45 [==============================] - 0s 2ms/step - loss: 0.6456 - accuracy: 0.5997 - val_loss: 0.6365 - val_accuracy: 0.7467\n",
            "Epoch 7/100\n",
            "45/45 [==============================] - 0s 3ms/step - loss: 0.6383 - accuracy: 0.6222 - val_loss: 0.6251 - val_accuracy: 0.7067\n",
            "Epoch 8/100\n",
            "45/45 [==============================] - 0s 3ms/step - loss: 0.6329 - accuracy: 0.6432 - val_loss: 0.6204 - val_accuracy: 0.7333\n",
            "Epoch 9/100\n",
            "45/45 [==============================] - 0s 2ms/step - loss: 0.6295 - accuracy: 0.6462 - val_loss: 0.6148 - val_accuracy: 0.7200\n",
            "Epoch 10/100\n",
            "45/45 [==============================] - 0s 2ms/step - loss: 0.6125 - accuracy: 0.6552 - val_loss: 0.6033 - val_accuracy: 0.7467\n",
            "Epoch 11/100\n",
            "45/45 [==============================] - 0s 3ms/step - loss: 0.6114 - accuracy: 0.6687 - val_loss: 0.5880 - val_accuracy: 0.7333\n",
            "Epoch 12/100\n",
            "45/45 [==============================] - 0s 3ms/step - loss: 0.6052 - accuracy: 0.6687 - val_loss: 0.5851 - val_accuracy: 0.7600\n",
            "Epoch 13/100\n",
            "45/45 [==============================] - 0s 3ms/step - loss: 0.5987 - accuracy: 0.6657 - val_loss: 0.5813 - val_accuracy: 0.7467\n",
            "Epoch 14/100\n",
            "45/45 [==============================] - 0s 3ms/step - loss: 0.5962 - accuracy: 0.6657 - val_loss: 0.5764 - val_accuracy: 0.7467\n",
            "Epoch 15/100\n",
            "45/45 [==============================] - 0s 2ms/step - loss: 0.5950 - accuracy: 0.6657 - val_loss: 0.5792 - val_accuracy: 0.7333\n",
            "Epoch 16/100\n",
            "45/45 [==============================] - 0s 2ms/step - loss: 0.5897 - accuracy: 0.6567 - val_loss: 0.5748 - val_accuracy: 0.7467\n",
            "Epoch 17/100\n",
            "45/45 [==============================] - 0s 3ms/step - loss: 0.5854 - accuracy: 0.6642 - val_loss: 0.5609 - val_accuracy: 0.7467\n",
            "Epoch 18/100\n",
            "45/45 [==============================] - 0s 2ms/step - loss: 0.5862 - accuracy: 0.6777 - val_loss: 0.5662 - val_accuracy: 0.7467\n",
            "Epoch 19/100\n",
            "45/45 [==============================] - 0s 3ms/step - loss: 0.5826 - accuracy: 0.6702 - val_loss: 0.5606 - val_accuracy: 0.7333\n",
            "Epoch 20/100\n",
            "45/45 [==============================] - 0s 2ms/step - loss: 0.5756 - accuracy: 0.6837 - val_loss: 0.5613 - val_accuracy: 0.7333\n",
            "Epoch 21/100\n",
            "45/45 [==============================] - 0s 3ms/step - loss: 0.5731 - accuracy: 0.6837 - val_loss: 0.5615 - val_accuracy: 0.7333\n",
            "Epoch 22/100\n",
            "45/45 [==============================] - 0s 2ms/step - loss: 0.5761 - accuracy: 0.6777 - val_loss: 0.5607 - val_accuracy: 0.7200\n",
            "Epoch 23/100\n",
            "45/45 [==============================] - 0s 2ms/step - loss: 0.5660 - accuracy: 0.6777 - val_loss: 0.5682 - val_accuracy: 0.7200\n",
            "Epoch 24/100\n",
            "45/45 [==============================] - 0s 3ms/step - loss: 0.5760 - accuracy: 0.6792 - val_loss: 0.5614 - val_accuracy: 0.7200\n",
            "Epoch 25/100\n",
            "45/45 [==============================] - 0s 2ms/step - loss: 0.5723 - accuracy: 0.7136 - val_loss: 0.5649 - val_accuracy: 0.7200\n",
            "Epoch 26/100\n",
            "45/45 [==============================] - 0s 3ms/step - loss: 0.5628 - accuracy: 0.7016 - val_loss: 0.5586 - val_accuracy: 0.7200\n",
            "Epoch 27/100\n",
            "45/45 [==============================] - 0s 3ms/step - loss: 0.5612 - accuracy: 0.6927 - val_loss: 0.5574 - val_accuracy: 0.7333\n",
            "Epoch 28/100\n",
            "45/45 [==============================] - 0s 3ms/step - loss: 0.5639 - accuracy: 0.6972 - val_loss: 0.5556 - val_accuracy: 0.7333\n",
            "Epoch 29/100\n",
            "45/45 [==============================] - 0s 3ms/step - loss: 0.5718 - accuracy: 0.6792 - val_loss: 0.5550 - val_accuracy: 0.7333\n",
            "Epoch 30/100\n",
            "45/45 [==============================] - 0s 2ms/step - loss: 0.5609 - accuracy: 0.6837 - val_loss: 0.5527 - val_accuracy: 0.7333\n",
            "Epoch 31/100\n",
            "45/45 [==============================] - 0s 3ms/step - loss: 0.5578 - accuracy: 0.6837 - val_loss: 0.5548 - val_accuracy: 0.7333\n",
            "Epoch 32/100\n",
            "45/45 [==============================] - 0s 2ms/step - loss: 0.5564 - accuracy: 0.6822 - val_loss: 0.5521 - val_accuracy: 0.7333\n",
            "Epoch 33/100\n",
            "45/45 [==============================] - 0s 2ms/step - loss: 0.5542 - accuracy: 0.6972 - val_loss: 0.5625 - val_accuracy: 0.7333\n",
            "Epoch 34/100\n",
            "45/45 [==============================] - 0s 3ms/step - loss: 0.5456 - accuracy: 0.7136 - val_loss: 0.5650 - val_accuracy: 0.7333\n",
            "Epoch 35/100\n",
            "45/45 [==============================] - 0s 2ms/step - loss: 0.5638 - accuracy: 0.6792 - val_loss: 0.5651 - val_accuracy: 0.7333\n",
            "Epoch 36/100\n",
            "45/45 [==============================] - 0s 3ms/step - loss: 0.5402 - accuracy: 0.7106 - val_loss: 0.5693 - val_accuracy: 0.7200\n",
            "Epoch 37/100\n",
            "45/45 [==============================] - 0s 2ms/step - loss: 0.5602 - accuracy: 0.7016 - val_loss: 0.5560 - val_accuracy: 0.7333\n",
            "Epoch 38/100\n",
            "45/45 [==============================] - 0s 3ms/step - loss: 0.5530 - accuracy: 0.6942 - val_loss: 0.5524 - val_accuracy: 0.7333\n",
            "Epoch 39/100\n",
            "45/45 [==============================] - 0s 3ms/step - loss: 0.5345 - accuracy: 0.7061 - val_loss: 0.5552 - val_accuracy: 0.7333\n",
            "Epoch 40/100\n",
            "45/45 [==============================] - 0s 3ms/step - loss: 0.5436 - accuracy: 0.7076 - val_loss: 0.5543 - val_accuracy: 0.7333\n",
            "Epoch 41/100\n",
            "45/45 [==============================] - 0s 2ms/step - loss: 0.5570 - accuracy: 0.7031 - val_loss: 0.5464 - val_accuracy: 0.7333\n",
            "Epoch 42/100\n",
            "45/45 [==============================] - 0s 3ms/step - loss: 0.5481 - accuracy: 0.6957 - val_loss: 0.5484 - val_accuracy: 0.7333\n",
            "Epoch 43/100\n",
            "45/45 [==============================] - 0s 3ms/step - loss: 0.5528 - accuracy: 0.6927 - val_loss: 0.5549 - val_accuracy: 0.7200\n",
            "Epoch 44/100\n",
            "45/45 [==============================] - 0s 3ms/step - loss: 0.5474 - accuracy: 0.6927 - val_loss: 0.5491 - val_accuracy: 0.7467\n",
            "Epoch 45/100\n",
            "45/45 [==============================] - 0s 2ms/step - loss: 0.5472 - accuracy: 0.6987 - val_loss: 0.5513 - val_accuracy: 0.7333\n",
            "Epoch 46/100\n",
            "45/45 [==============================] - 0s 6ms/step - loss: 0.5418 - accuracy: 0.7091 - val_loss: 0.5552 - val_accuracy: 0.7333\n",
            "Epoch 47/100\n",
            "45/45 [==============================] - 0s 10ms/step - loss: 0.5478 - accuracy: 0.6942 - val_loss: 0.5616 - val_accuracy: 0.7333\n",
            "Epoch 48/100\n",
            "45/45 [==============================] - 0s 7ms/step - loss: 0.5543 - accuracy: 0.7046 - val_loss: 0.5552 - val_accuracy: 0.7600\n",
            "Epoch 49/100\n",
            "45/45 [==============================] - 0s 5ms/step - loss: 0.5259 - accuracy: 0.7121 - val_loss: 0.5490 - val_accuracy: 0.7467\n",
            "Epoch 50/100\n",
            "45/45 [==============================] - 0s 3ms/step - loss: 0.5403 - accuracy: 0.7016 - val_loss: 0.5515 - val_accuracy: 0.7467\n",
            "Epoch 51/100\n",
            "45/45 [==============================] - 0s 2ms/step - loss: 0.5481 - accuracy: 0.7031 - val_loss: 0.5452 - val_accuracy: 0.7467\n",
            "Epoch 52/100\n",
            "45/45 [==============================] - 0s 7ms/step - loss: 0.5389 - accuracy: 0.7211 - val_loss: 0.5548 - val_accuracy: 0.7333\n",
            "Epoch 53/100\n",
            "45/45 [==============================] - 0s 11ms/step - loss: 0.5405 - accuracy: 0.6942 - val_loss: 0.5486 - val_accuracy: 0.7600\n",
            "Epoch 54/100\n",
            "45/45 [==============================] - 0s 8ms/step - loss: 0.5416 - accuracy: 0.7121 - val_loss: 0.5583 - val_accuracy: 0.7333\n",
            "Epoch 55/100\n",
            "45/45 [==============================] - 0s 3ms/step - loss: 0.5361 - accuracy: 0.6987 - val_loss: 0.5594 - val_accuracy: 0.7467\n",
            "Epoch 56/100\n",
            "45/45 [==============================] - 0s 3ms/step - loss: 0.5267 - accuracy: 0.7061 - val_loss: 0.5608 - val_accuracy: 0.7467\n",
            "Epoch 57/100\n",
            "45/45 [==============================] - 0s 3ms/step - loss: 0.5236 - accuracy: 0.7106 - val_loss: 0.5601 - val_accuracy: 0.7333\n",
            "Epoch 58/100\n",
            "45/45 [==============================] - 0s 7ms/step - loss: 0.5286 - accuracy: 0.7121 - val_loss: 0.5575 - val_accuracy: 0.7333\n",
            "Epoch 59/100\n",
            "45/45 [==============================] - 1s 18ms/step - loss: 0.5247 - accuracy: 0.7046 - val_loss: 0.5588 - val_accuracy: 0.7333\n",
            "Epoch 60/100\n",
            "45/45 [==============================] - 1s 15ms/step - loss: 0.5334 - accuracy: 0.7121 - val_loss: 0.5564 - val_accuracy: 0.7333\n",
            "Epoch 61/100\n",
            "45/45 [==============================] - 0s 4ms/step - loss: 0.5320 - accuracy: 0.7076 - val_loss: 0.5527 - val_accuracy: 0.7733\n",
            "Epoch 62/100\n",
            "45/45 [==============================] - 0s 5ms/step - loss: 0.5251 - accuracy: 0.7181 - val_loss: 0.5607 - val_accuracy: 0.7467\n",
            "Epoch 63/100\n",
            "45/45 [==============================] - 0s 4ms/step - loss: 0.5290 - accuracy: 0.7091 - val_loss: 0.5532 - val_accuracy: 0.7600\n",
            "Epoch 64/100\n",
            "45/45 [==============================] - 0s 4ms/step - loss: 0.5319 - accuracy: 0.7076 - val_loss: 0.5519 - val_accuracy: 0.7600\n",
            "Epoch 65/100\n",
            "45/45 [==============================] - 0s 4ms/step - loss: 0.5195 - accuracy: 0.7181 - val_loss: 0.5607 - val_accuracy: 0.7600\n",
            "Epoch 66/100\n",
            "45/45 [==============================] - 0s 4ms/step - loss: 0.5029 - accuracy: 0.7271 - val_loss: 0.5608 - val_accuracy: 0.7733\n",
            "Epoch 67/100\n",
            "45/45 [==============================] - 0s 2ms/step - loss: 0.5136 - accuracy: 0.7241 - val_loss: 0.5606 - val_accuracy: 0.7600\n",
            "Epoch 68/100\n",
            "45/45 [==============================] - 0s 3ms/step - loss: 0.5192 - accuracy: 0.7151 - val_loss: 0.5643 - val_accuracy: 0.7467\n",
            "Epoch 69/100\n",
            "45/45 [==============================] - 0s 3ms/step - loss: 0.5178 - accuracy: 0.7181 - val_loss: 0.5670 - val_accuracy: 0.7600\n",
            "Epoch 70/100\n",
            "45/45 [==============================] - 0s 2ms/step - loss: 0.5182 - accuracy: 0.7211 - val_loss: 0.5697 - val_accuracy: 0.7600\n",
            "Epoch 71/100\n",
            "45/45 [==============================] - 0s 2ms/step - loss: 0.5265 - accuracy: 0.7076 - val_loss: 0.5707 - val_accuracy: 0.7333\n",
            "Epoch 72/100\n",
            "45/45 [==============================] - 0s 2ms/step - loss: 0.5259 - accuracy: 0.7091 - val_loss: 0.5593 - val_accuracy: 0.7733\n",
            "Epoch 73/100\n",
            "45/45 [==============================] - 0s 2ms/step - loss: 0.5136 - accuracy: 0.7256 - val_loss: 0.5620 - val_accuracy: 0.7600\n",
            "Epoch 74/100\n",
            "45/45 [==============================] - 0s 2ms/step - loss: 0.5111 - accuracy: 0.7256 - val_loss: 0.5675 - val_accuracy: 0.7600\n",
            "Epoch 75/100\n",
            "45/45 [==============================] - 0s 3ms/step - loss: 0.5093 - accuracy: 0.7271 - val_loss: 0.5726 - val_accuracy: 0.7200\n",
            "Epoch 76/100\n",
            "45/45 [==============================] - 0s 3ms/step - loss: 0.5125 - accuracy: 0.7271 - val_loss: 0.5615 - val_accuracy: 0.7467\n",
            "Epoch 77/100\n",
            "45/45 [==============================] - 0s 3ms/step - loss: 0.5041 - accuracy: 0.7346 - val_loss: 0.5516 - val_accuracy: 0.7600\n",
            "Epoch 78/100\n",
            "45/45 [==============================] - 0s 2ms/step - loss: 0.5157 - accuracy: 0.7241 - val_loss: 0.5605 - val_accuracy: 0.7600\n",
            "Epoch 79/100\n",
            "45/45 [==============================] - 0s 3ms/step - loss: 0.5162 - accuracy: 0.7211 - val_loss: 0.5623 - val_accuracy: 0.7467\n",
            "Epoch 80/100\n",
            "45/45 [==============================] - 0s 2ms/step - loss: 0.5136 - accuracy: 0.7256 - val_loss: 0.5716 - val_accuracy: 0.7467\n",
            "Epoch 81/100\n",
            "45/45 [==============================] - 0s 3ms/step - loss: 0.5160 - accuracy: 0.7376 - val_loss: 0.5625 - val_accuracy: 0.7600\n",
            "Epoch 82/100\n",
            "45/45 [==============================] - 0s 2ms/step - loss: 0.5097 - accuracy: 0.7421 - val_loss: 0.5627 - val_accuracy: 0.7600\n",
            "Epoch 83/100\n",
            "45/45 [==============================] - 0s 2ms/step - loss: 0.5087 - accuracy: 0.7466 - val_loss: 0.5627 - val_accuracy: 0.7600\n",
            "Epoch 84/100\n",
            "45/45 [==============================] - 0s 3ms/step - loss: 0.5112 - accuracy: 0.7436 - val_loss: 0.5716 - val_accuracy: 0.7333\n",
            "Epoch 85/100\n",
            "45/45 [==============================] - 0s 3ms/step - loss: 0.4973 - accuracy: 0.7481 - val_loss: 0.5684 - val_accuracy: 0.7733\n",
            "Epoch 86/100\n",
            "45/45 [==============================] - 0s 3ms/step - loss: 0.4981 - accuracy: 0.7196 - val_loss: 0.5627 - val_accuracy: 0.7467\n",
            "Epoch 87/100\n",
            "45/45 [==============================] - 0s 3ms/step - loss: 0.5027 - accuracy: 0.7286 - val_loss: 0.5717 - val_accuracy: 0.7600\n",
            "Epoch 88/100\n",
            "45/45 [==============================] - 0s 3ms/step - loss: 0.4799 - accuracy: 0.7301 - val_loss: 0.5744 - val_accuracy: 0.7333\n",
            "Epoch 89/100\n",
            "45/45 [==============================] - 0s 3ms/step - loss: 0.4948 - accuracy: 0.7421 - val_loss: 0.5768 - val_accuracy: 0.7467\n",
            "Epoch 90/100\n",
            "45/45 [==============================] - 0s 3ms/step - loss: 0.5170 - accuracy: 0.7211 - val_loss: 0.5608 - val_accuracy: 0.7600\n",
            "Epoch 91/100\n",
            "45/45 [==============================] - 0s 2ms/step - loss: 0.5127 - accuracy: 0.7331 - val_loss: 0.5622 - val_accuracy: 0.7467\n",
            "Epoch 92/100\n",
            "45/45 [==============================] - 0s 3ms/step - loss: 0.4954 - accuracy: 0.7466 - val_loss: 0.5620 - val_accuracy: 0.7600\n",
            "Epoch 93/100\n",
            "45/45 [==============================] - 0s 3ms/step - loss: 0.4934 - accuracy: 0.7391 - val_loss: 0.5648 - val_accuracy: 0.7467\n",
            "Epoch 94/100\n",
            "45/45 [==============================] - 0s 2ms/step - loss: 0.5229 - accuracy: 0.7421 - val_loss: 0.5623 - val_accuracy: 0.7733\n",
            "Epoch 95/100\n",
            "45/45 [==============================] - 0s 3ms/step - loss: 0.4931 - accuracy: 0.7376 - val_loss: 0.5675 - val_accuracy: 0.7733\n",
            "Epoch 96/100\n",
            "45/45 [==============================] - 0s 2ms/step - loss: 0.4919 - accuracy: 0.7496 - val_loss: 0.5753 - val_accuracy: 0.7600\n",
            "Epoch 97/100\n",
            "45/45 [==============================] - 0s 3ms/step - loss: 0.4846 - accuracy: 0.7526 - val_loss: 0.5725 - val_accuracy: 0.7333\n",
            "Epoch 98/100\n",
            "45/45 [==============================] - 0s 3ms/step - loss: 0.5063 - accuracy: 0.7436 - val_loss: 0.5663 - val_accuracy: 0.7600\n",
            "Epoch 99/100\n",
            "45/45 [==============================] - 0s 3ms/step - loss: 0.4952 - accuracy: 0.7601 - val_loss: 0.5801 - val_accuracy: 0.7600\n",
            "Epoch 100/100\n",
            "45/45 [==============================] - 0s 2ms/step - loss: 0.4879 - accuracy: 0.7436 - val_loss: 0.5720 - val_accuracy: 0.7600\n"
          ]
        }
      ]
    },
    {
      "cell_type": "markdown",
      "source": [
        "---\n",
        "# Evaluating the model"
      ],
      "metadata": {
        "id": "1Ag0P5oI9qiw"
      }
    },
    {
      "cell_type": "code",
      "source": [
        "# predicting the test set result\n",
        "y_pred = FloodDetector.predict(X_test)\n",
        "y_pred = (y_pred>0.5)"
      ],
      "metadata": {
        "execution": {
          "iopub.status.busy": "2024-04-04T07:06:55.189538Z",
          "iopub.execute_input": "2024-04-04T07:06:55.189902Z",
          "iopub.status.idle": "2024-04-04T07:06:55.692741Z",
          "shell.execute_reply.started": "2024-04-04T07:06:55.189876Z",
          "shell.execute_reply": "2024-04-04T07:06:55.691879Z"
        },
        "trusted": true,
        "colab": {
          "base_uri": "https://localhost:8080/"
        },
        "id": "3yC9_Sc09qiw",
        "outputId": "37af779b-7aa4-4d04-e4b2-794f22536543"
      },
      "execution_count": null,
      "outputs": [
        {
          "output_type": "stream",
          "name": "stdout",
          "text": [
            "3/3 [==============================] - 0s 4ms/step\n"
          ]
        }
      ]
    },
    {
      "cell_type": "code",
      "source": [
        "# Confusion Metric\n",
        "from sklearn.metrics import confusion_matrix\n",
        "confusion_metric = confusion_matrix(y_test, y_pred)\n",
        "confusion_metric"
      ],
      "metadata": {
        "execution": {
          "iopub.status.busy": "2024-04-04T07:06:55.694081Z",
          "iopub.execute_input": "2024-04-04T07:06:55.694779Z",
          "iopub.status.idle": "2024-04-04T07:06:55.704331Z",
          "shell.execute_reply.started": "2024-04-04T07:06:55.694743Z",
          "shell.execute_reply": "2024-04-04T07:06:55.703451Z"
        },
        "trusted": true,
        "colab": {
          "base_uri": "https://localhost:8080/"
        },
        "id": "E1tV5MRh9qiw",
        "outputId": "5454655c-9e9c-43da-d7bd-b61ed8d4573b"
      },
      "execution_count": null,
      "outputs": [
        {
          "output_type": "execute_result",
          "data": {
            "text/plain": [
              "array([[33, 15],\n",
              "       [ 8, 27]])"
            ]
          },
          "metadata": {},
          "execution_count": 51
        }
      ]
    },
    {
      "cell_type": "code",
      "source": [
        "from sklearn.metrics import accuracy_score\n",
        "print('Accuracy score:', accuracy_score(y_test,y_pred))"
      ],
      "metadata": {
        "execution": {
          "iopub.status.busy": "2024-04-04T07:06:55.705626Z",
          "iopub.execute_input": "2024-04-04T07:06:55.706041Z",
          "iopub.status.idle": "2024-04-04T07:06:55.717446Z",
          "shell.execute_reply.started": "2024-04-04T07:06:55.706011Z",
          "shell.execute_reply": "2024-04-04T07:06:55.716415Z"
        },
        "trusted": true,
        "colab": {
          "base_uri": "https://localhost:8080/"
        },
        "id": "AEt8dAOC9qiw",
        "outputId": "1c055cd8-3d17-4761-c2c0-4727f492fae4"
      },
      "execution_count": null,
      "outputs": [
        {
          "output_type": "stream",
          "name": "stdout",
          "text": [
            "Accuracy score: 0.7228915662650602\n"
          ]
        }
      ]
    },
    {
      "cell_type": "code",
      "source": [
        "from sklearn.metrics import f1_score\n",
        "print('F1 score:', f1_score(y_test,y_pred))"
      ],
      "metadata": {
        "colab": {
          "base_uri": "https://localhost:8080/"
        },
        "id": "p4vb9r560c6c",
        "outputId": "1658e89a-f23d-4dd2-827f-0e370dc62d28"
      },
      "execution_count": null,
      "outputs": [
        {
          "output_type": "stream",
          "name": "stdout",
          "text": [
            "F1 score: 0.7012987012987013\n"
          ]
        }
      ]
    },
    {
      "cell_type": "code",
      "source": [
        "from sklearn.metrics import precision_score\n",
        "print('Precision:', precision_score(y_test,y_pred))"
      ],
      "metadata": {
        "colab": {
          "base_uri": "https://localhost:8080/"
        },
        "id": "7NE1VujF0_WF",
        "outputId": "ef6cb434-9548-4f4f-ad8b-42cd513ec329"
      },
      "execution_count": null,
      "outputs": [
        {
          "output_type": "stream",
          "name": "stdout",
          "text": [
            "Precision: 0.6428571428571429\n"
          ]
        }
      ]
    },
    {
      "cell_type": "code",
      "source": [
        "from sklearn.metrics import recall_score\n",
        "print('Recall:', recall_score(y_test,y_pred))"
      ],
      "metadata": {
        "colab": {
          "base_uri": "https://localhost:8080/"
        },
        "id": "42Lx8njJ1BqD",
        "outputId": "9384cfd9-1914-424b-d325-ce5b8f8ffd32"
      },
      "execution_count": null,
      "outputs": [
        {
          "output_type": "stream",
          "name": "stdout",
          "text": [
            "Recall: 0.7714285714285715\n"
          ]
        }
      ]
    },
    {
      "cell_type": "code",
      "source": [
        "accuracy = FloodDetector.evaluate(X_test, y_test)[1]\n",
        "print(\"Accuracy:\", accuracy)"
      ],
      "metadata": {
        "execution": {
          "iopub.status.busy": "2024-04-04T07:06:55.718840Z",
          "iopub.execute_input": "2024-04-04T07:06:55.719227Z",
          "iopub.status.idle": "2024-04-04T07:06:56.331947Z",
          "shell.execute_reply.started": "2024-04-04T07:06:55.719196Z",
          "shell.execute_reply": "2024-04-04T07:06:56.330824Z"
        },
        "trusted": true,
        "colab": {
          "base_uri": "https://localhost:8080/"
        },
        "id": "7T-dH-Mi9qiw",
        "outputId": "35f35c64-8638-4bb0-a367-3761f729823f"
      },
      "execution_count": null,
      "outputs": [
        {
          "output_type": "stream",
          "name": "stdout",
          "text": [
            "3/3 [==============================] - 0s 4ms/step - loss: 0.5718 - accuracy: 0.7229\n",
            "Accuracy: 0.7228915691375732\n"
          ]
        }
      ]
    },
    {
      "cell_type": "code",
      "source": [
        "plt.plot(history.history['loss'])\n",
        "plt.plot(history.history['val_loss'])\n",
        "plt.legend(['Training loss', 'Validation loss'])"
      ],
      "metadata": {
        "execution": {
          "iopub.status.busy": "2024-04-04T07:06:56.333141Z",
          "iopub.execute_input": "2024-04-04T07:06:56.333419Z",
          "iopub.status.idle": "2024-04-04T07:06:56.572030Z",
          "shell.execute_reply.started": "2024-04-04T07:06:56.333395Z",
          "shell.execute_reply": "2024-04-04T07:06:56.570820Z"
        },
        "trusted": true,
        "colab": {
          "base_uri": "https://localhost:8080/",
          "height": 450
        },
        "id": "rPIePI0j9qix",
        "outputId": "b9efbf66-7274-4014-fdf4-2058083a4bbb"
      },
      "execution_count": null,
      "outputs": [
        {
          "output_type": "execute_result",
          "data": {
            "text/plain": [
              "<matplotlib.legend.Legend at 0x7ea69e3cdc90>"
            ]
          },
          "metadata": {},
          "execution_count": 57
        },
        {
          "output_type": "display_data",
          "data": {
            "text/plain": [
              "<Figure size 640x480 with 1 Axes>"
            ],
            "image/png": "[encoded data removed]"
          },
          "metadata": {}
        }
      ]
    },
    {
      "cell_type": "code",
      "source": [
        "plt.plot(history.history['accuracy'])\n",
        "plt.plot(history.history['val_accuracy'])\n",
        "plt.legend(['Training acc', 'Validation acc'])"
      ],
      "metadata": {
        "execution": {
          "iopub.status.busy": "2024-04-04T07:06:56.573586Z",
          "iopub.execute_input": "2024-04-04T07:06:56.573897Z",
          "iopub.status.idle": "2024-04-04T07:06:56.897025Z",
          "shell.execute_reply.started": "2024-04-04T07:06:56.573870Z",
          "shell.execute_reply": "2024-04-04T07:06:56.896050Z"
        },
        "trusted": true,
        "colab": {
          "base_uri": "https://localhost:8080/",
          "height": 447
        },
        "id": "yOqMyzXe9qix",
        "outputId": "0212dc2a-6886-4cd3-c8a9-24847c757366"
      },
      "execution_count": null,
      "outputs": [
        {
          "output_type": "execute_result",
          "data": {
            "text/plain": [
              "<matplotlib.legend.Legend at 0x7ea69e3ec520>"
            ]
          },
          "metadata": {},
          "execution_count": 58
        },
        {
          "output_type": "display_data",
          "data": {
            "text/plain": [
              "<Figure size 640x480 with 1 Axes>"
            ],
            "image/png": "[encoded data removed]"
          },
          "metadata": {}
        }
      ]
    },
    {
      "cell_type": "markdown",
      "source": [
        "---\n",
        "# Test the model"
      ],
      "metadata": {
        "id": "b61tg8YL9qix"
      }
    },
    {
      "cell_type": "code",
      "source": [
        "example_data = X_test[0].reshape(1, -1)\n",
        "prediction = FloodDetector.predict(example_data)[0][0]\n",
        "\n",
        "if prediction >= 0.5:\n",
        "    print(\"The model predicts that a flood occurred.\")\n",
        "else:\n",
        "    print(\"The model predicts that no flood occurred.\")"
      ],
      "metadata": {
        "colab": {
          "base_uri": "https://localhost:8080/"
        },
        "id": "nUheUO9Az30H",
        "outputId": "c8ad51d6-f1ab-4ae4-b5a1-c8dbb3fd26f2"
      },
      "execution_count": null,
      "outputs": [
        {
          "output_type": "stream",
          "name": "stdout",
          "text": [
            "1/1 [==============================] - 0s 20ms/step\n",
            "The model predicts that a flood occurred.\n"
          ]
        }
      ]
    },
    {
      "cell_type": "code",
      "source": [
        "example_data = X_test[1].reshape(1, -1)\n",
        "prediction = FloodDetector.predict(example_data)[0][0]\n",
        "\n",
        "if prediction >= 0.5:\n",
        "    print(\"The model predicts that a flood occurred.\")\n",
        "else:\n",
        "    print(\"The model predicts that no flood occurred.\")"
      ],
      "metadata": {
        "colab": {
          "base_uri": "https://localhost:8080/"
        },
        "id": "LaA_0QGVz7hO",
        "outputId": "5de54854-c7fb-4610-8358-53152ed9e3b9"
      },
      "execution_count": null,
      "outputs": [
        {
          "output_type": "stream",
          "name": "stdout",
          "text": [
            "1/1 [==============================] - 0s 32ms/step\n",
            "The model predicts that a flood occurred.\n"
          ]
        }
      ]
    },
    {
      "cell_type": "code",
      "source": [
        "example_data = X_test[2].reshape(1, -1)\n",
        "prediction = FloodDetector.predict(example_data)[0][0]\n",
        "\n",
        "if prediction >= 0.5:\n",
        "    print(\"The model predicts that a flood occurred.\")\n",
        "else:\n",
        "    print(\"The model predicts that no flood occurred.\")"
      ],
      "metadata": {
        "colab": {
          "base_uri": "https://localhost:8080/"
        },
        "id": "-f-mpvNGz92k",
        "outputId": "8e4deaeb-a9ea-468e-ba96-1361b95b4bd2"
      },
      "execution_count": null,
      "outputs": [
        {
          "output_type": "stream",
          "name": "stdout",
          "text": [
            "1/1 [==============================] - 0s 19ms/step\n",
            "The model predicts that a flood occurred.\n"
          ]
        }
      ]
    },
    {
      "cell_type": "code",
      "source": [
        "example_data = X_test[3].reshape(1, -1)\n",
        "prediction = FloodDetector.predict(example_data)[0][0]\n",
        "\n",
        "if prediction >= 0.5:\n",
        "    print(\"The model predicts that a flood occurred.\")\n",
        "else:\n",
        "    print(\"The model predicts that no flood occurred.\")"
      ],
      "metadata": {
        "execution": {
          "iopub.status.busy": "2024-04-04T07:06:56.898153Z",
          "iopub.execute_input": "2024-04-04T07:06:56.898449Z",
          "iopub.status.idle": "2024-04-04T07:06:57.101126Z",
          "shell.execute_reply.started": "2024-04-04T07:06:56.898425Z",
          "shell.execute_reply": "2024-04-04T07:06:57.100116Z"
        },
        "trusted": true,
        "colab": {
          "base_uri": "https://localhost:8080/"
        },
        "id": "w6rpAGEu9qix",
        "outputId": "d8bf0a26-632e-4980-bd6b-6d3e8a4168be"
      },
      "execution_count": null,
      "outputs": [
        {
          "output_type": "stream",
          "name": "stdout",
          "text": [
            "1/1 [==============================] - 0s 19ms/step\n",
            "The model predicts that a flood occurred.\n"
          ]
        }
      ]
    },
    {
      "cell_type": "code",
      "source": [
        "example_data = X_test[4].reshape(1, -1)\n",
        "prediction = FloodDetector.predict(example_data)[0][0]\n",
        "\n",
        "if prediction >= 0.5:\n",
        "    print(\"The model predicts that a flood occurred.\")\n",
        "else:\n",
        "    print(\"The model predicts that no flood occurred.\")"
      ],
      "metadata": {
        "colab": {
          "base_uri": "https://localhost:8080/"
        },
        "id": "XGAOQvM00AAw",
        "outputId": "31986a51-df2b-4cdb-aaf0-a4d687f31fc9"
      },
      "execution_count": null,
      "outputs": [
        {
          "output_type": "stream",
          "name": "stdout",
          "text": [
            "1/1 [==============================] - 0s 22ms/step\n",
            "The model predicts that no flood occurred.\n"
          ]
        }
      ]
    },
    {
      "cell_type": "markdown",
      "source": [
        "---\n",
        "# Save the model"
      ],
      "metadata": {
        "id": "JAx4NbAX9qix"
      }
    },
    {
      "cell_type": "code",
      "source": [
        "FloodDetector.save('/content/flood_detector.h5')"
      ],
      "metadata": {
        "colab": {
          "base_uri": "https://localhost:8080/"
        },
        "id": "_rZC7REnfLo1",
        "outputId": "3e4e0b8c-e281-4452-878f-28c178232cef"
      },
      "execution_count": null,
      "outputs": [
        {
          "output_type": "stream",
          "name": "stderr",
          "text": [
            "/usr/local/lib/python3.10/dist-packages/keras/src/engine/training.py:3103: UserWarning: You are saving your model as an HDF5 file via `model.save()`. This file format is considered legacy. We recommend using instead the native Keras format, e.g. `model.save('my_model.keras')`.\n",
            "  saving_api.save_model(\n"
          ]
        }
      ]
    },
    {
      "cell_type": "code",
      "source": [
        "# Convert the model to TensorFlow Lite format\n",
        "model = tensorflow.keras.models.load_model('/content/flood_detector.h5')\n",
        "converter = tensorflow.lite.TFLiteConverter.from_keras_model(model)\n",
        "tflite_model = converter.convert()\n",
        "\n",
        "# Save the TensorFlow Lite model to a file\n",
        "with open('flood_detector.tflite', 'wb') as f:\n",
        "    f.write(tflite_model)"
      ],
      "metadata": {
        "execution": {
          "iopub.status.busy": "2024-04-04T07:08:18.567918Z",
          "iopub.execute_input": "2024-04-04T07:08:18.568306Z"
        },
        "trusted": true,
        "id": "X9m--9l59qiy"
      },
      "execution_count": null,
      "outputs": []
    },
    {
      "cell_type": "code",
      "source": [
        "xnew = np.array([[231.12,142.74,177.16,188.06,88.42,144.45,203.78,246.16,207.76,230.71,271.39,293.68,2425.44]])\n",
        "xnew = scaler.transform(xnew)\n",
        "ynew = FloodDetector.predict(xnew)\n",
        "#invert normalize\n",
        "xnew = scaler.inverse_transform(xnew)\n",
        "print(\"X=%s, Predicted=%s\" % (xnew[0], ynew[0][0]))"
      ],
      "metadata": {
        "colab": {
          "base_uri": "https://localhost:8080/"
        },
        "id": "F_KV1v8zhzJg",
        "outputId": "247243c6-0ae9-4124-f0ba-1bdf52d05abf"
      },
      "execution_count": null,
      "outputs": [
        {
          "output_type": "stream",
          "name": "stdout",
          "text": [
            "1/1 [==============================] - 0s 37ms/step\n",
            "X=[ 231.12  142.74  177.16  188.06   88.42  144.45  203.78  246.16  207.76\n",
            "  230.71  271.39  293.68 2425.44], Predicted=0.18942343\n"
          ]
        },
        {
          "output_type": "stream",
          "name": "stderr",
          "text": [
            "/usr/local/lib/python3.10/dist-packages/sklearn/base.py:439: UserWarning: X does not have valid feature names, but StandardScaler was fitted with feature names\n",
            "  warnings.warn(\n"
          ]
        }
      ]
    }
  ]
}